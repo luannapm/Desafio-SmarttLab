{
  "nbformat": 4,
  "nbformat_minor": 0,
  "metadata": {
    "colab": {
      "name": "Robos-Desafio_SmarttLab.ipynb",
      "provenance": [],
      "collapsed_sections": [],
      "mount_file_id": "1aljauKe19ORg4FqE4fdCn27P2sq8xPRp",
      "authorship_tag": "ABX9TyOXJM0nS6VCfg7h1C3X5WD/",
      "include_colab_link": true
    },
    "kernelspec": {
      "name": "python3",
      "display_name": "Python 3"
    },
    "language_info": {
      "name": "python"
    }
  },
  "cells": [
    {
      "cell_type": "markdown",
      "metadata": {
        "id": "view-in-github",
        "colab_type": "text"
      },
      "source": [
        "<a href=\"https://colab.research.google.com/github/luannapm/Desafio-SmarttLab/blob/main/Robos_Desafio_SmarttLab.ipynb\" target=\"_parent\"><img src=\"https://colab.research.google.com/assets/colab-badge.svg\" alt=\"Open In Colab\"/></a>"
      ]
    },
    {
      "cell_type": "markdown",
      "source": [
        "Objetivo:selecionar os melhores robôs\n",
        "\n",
        "Robôs com os maiores resultados financeiros são os melhores?\n",
        "\n",
        "Robôs com os maiores números de operações são os melhores?\n",
        "\n"
      ],
      "metadata": {
        "id": "UksH_r2wH6qw"
      }
    },
    {
      "cell_type": "markdown",
      "source": [
        "Parte II\n"
      ],
      "metadata": {
        "id": "DlKy-j9s--UI"
      }
    },
    {
      "cell_type": "markdown",
      "source": [
        "\n",
        "a. Realize uma análise estatística descritiva dos dados dos robôs (“Robos_resultado” e “Robos_trade”).\n",
        "\n",
        "b. Utilizando tabelas e/ou gráficos, crie métricas para avaliação dos robôs.\n",
        "\n",
        "c. Faça um ranking com os 5 melhores robôs de acordo com sua análise.\n",
        "\n",
        "Dica: não crie seu ranking considerando apenas o resultado absoluto financeiro.\n",
        "Não existe resposta certa, se preocupe em explorar os dados e criar métricas que\n",
        "você considere que possam ser relevantes, e assim selecionar os melhores robôs\n",
        "de acordo com elas."
      ],
      "metadata": {
        "id": "HZxhEOV_-3PB"
      }
    },
    {
      "cell_type": "markdown",
      "source": [
        "Descrição dos dados\n",
        "\n",
        "Robos_resultado: resultado financeiro diário de robôs a serem analisados\n",
        "\n",
        "i) Date: dia analisado\n",
        "\n",
        "ii) Outras colunas: ID de cada robô da análise\n",
        "\n",
        "iii) Células: resultado diário financeiro para cada robô\n",
        "\n",
        "Robos_trade: número de operações realizadas pelos robôs por dia\n",
        "\n",
        "i) Date: dia analisado\n",
        "\n",
        "ii) Outras colunas: ID de cada robô da análise (idem “Robos_resultado’)\n",
        "\n",
        "iii) Células: número de operações diárias realizado por cada robô"
      ],
      "metadata": {
        "id": "zDIJ6LP8-_7x"
      }
    },
    {
      "cell_type": "markdown",
      "source": [
        "Importação das bibliotecas"
      ],
      "metadata": {
        "id": "gVx_Rv3KeXGI"
      }
    },
    {
      "cell_type": "code",
      "execution_count": null,
      "metadata": {
        "id": "wAs6RUFLeDcG"
      },
      "outputs": [],
      "source": [
        "import pandas as pd\n",
        "import matplotlib.pyplot as plt"
      ]
    },
    {
      "cell_type": "code",
      "source": [
        "#Auteticando e montando o drive\n",
        "from google.colab import drive\n",
        "drive.mount('/content/drive')"
      ],
      "metadata": {
        "colab": {
          "base_uri": "https://localhost:8080/"
        },
        "id": "cTIUI69FJaWE",
        "outputId": "0f144850-2bd4-4d86-ca65-a284cf20b987"
      },
      "execution_count": null,
      "outputs": [
        {
          "output_type": "stream",
          "name": "stdout",
          "text": [
            "Drive already mounted at /content/drive; to attempt to forcibly remount, call drive.mount(\"/content/drive\", force_remount=True).\n"
          ]
        }
      ]
    },
    {
      "cell_type": "markdown",
      "source": [
        "Importando os dados"
      ],
      "metadata": {
        "id": "023ev5OtebcZ"
      }
    },
    {
      "cell_type": "code",
      "source": [
        "df_resultado = pd.read_csv('/content/drive/MyDrive/Teste-SmarttLab/Robos_resultado.csv')"
      ],
      "metadata": {
        "id": "Bf2NU7r8eebH"
      },
      "execution_count": null,
      "outputs": []
    },
    {
      "cell_type": "code",
      "source": [
        "df_trade = pd.read_csv('/content/drive/MyDrive/Teste-SmarttLab/Robos_trade.csv')"
      ],
      "metadata": {
        "id": "qs5TAlQAI5JJ"
      },
      "execution_count": null,
      "outputs": []
    },
    {
      "cell_type": "markdown",
      "source": [
        "Análise exploratória"
      ],
      "metadata": {
        "id": "hfeVEiOXegtr"
      }
    },
    {
      "cell_type": "code",
      "source": [
        "#Verificando a linhas do início e do fim e o tamanho dos dados\n",
        "display(df_resultado)"
      ],
      "metadata": {
        "colab": {
          "base_uri": "https://localhost:8080/",
          "height": 679
        },
        "id": "d00Qpd78ftR9",
        "outputId": "d7f5dda4-14a1-4b5b-e9ea-39d70ac4312f"
      },
      "execution_count": null,
      "outputs": [
        {
          "output_type": "display_data",
          "data": {
            "text/plain": [
              "     Unnamed: 0        date  2772803  2772804  2772805  2772806  2772807  \\\n",
              "0             0  2020-05-05     97.0     97.0     97.0      0.0    198.0   \n",
              "1             1  2020-05-07     79.0     79.0     79.0   -358.0   -119.0   \n",
              "2             2  2020-05-08     57.0     57.0     57.0    -19.0   -138.0   \n",
              "3             3  2020-05-11     73.0     73.0     73.0   -129.0   -195.0   \n",
              "4             4  2020-05-12     53.0     53.0     53.0   -264.0   -204.0   \n",
              "..          ...         ...      ...      ...      ...      ...      ...   \n",
              "490         490  2021-09-02      0.0      0.0      0.0      0.0      0.0   \n",
              "491         491  2021-10-25      0.0      0.0      0.0      0.0      0.0   \n",
              "492         492  2021-11-30      0.0      0.0      0.0      0.0      0.0   \n",
              "493         493  2022-01-11      0.0      0.0      0.0      0.0      0.0   \n",
              "494         494  2022-03-02      0.0      0.0      0.0      0.0      0.0   \n",
              "\n",
              "     2772808  2772809  2772810  ...  2772928  2772929  2772930  2772931  \\\n",
              "0      174.0     38.0      0.0  ...      0.0      0.0      0.0      0.0   \n",
              "1     -119.0     86.0      0.0  ...     90.0     90.0     42.0     80.0   \n",
              "2     -138.0    -60.0      0.0  ...      0.0      0.0      0.0      0.0   \n",
              "3     -195.0   -195.0      0.0  ...      0.0      0.0      0.0      0.0   \n",
              "4     -204.0    -59.0      0.0  ...      0.0      0.0      0.0      0.0   \n",
              "..       ...      ...      ...  ...      ...      ...      ...      ...   \n",
              "490      0.0      0.0      0.0  ...     -9.0     -9.0    -44.0    -58.0   \n",
              "491      0.0      0.0      0.0  ...      0.0      0.0     40.0     77.0   \n",
              "492      0.0      0.0      0.0  ...      0.0      0.0      0.0     39.0   \n",
              "493      0.0      0.0      0.0  ...     55.0     55.0     41.0     39.0   \n",
              "494      0.0      0.0      0.0  ...      0.0      0.0      0.0      0.0   \n",
              "\n",
              "     2772932  2772933  2772934  2772980    2772981  2772982  \n",
              "0        0.0      0.0     82.0     82.0 -76.666667      0.0  \n",
              "1       42.0     42.0      2.0      2.0 -57.857143     47.0  \n",
              "2        0.0      0.0      2.0      2.0 -44.000000      0.0  \n",
              "3        0.0      0.0    -72.0    -72.0  30.750000      0.0  \n",
              "4        0.0      0.0      3.0      3.0   6.400000      0.0  \n",
              "..       ...      ...      ...      ...        ...      ...  \n",
              "490    -64.0    -64.0    -76.0    -76.0  14.666667    -62.0  \n",
              "491     40.0     40.0    -80.0    -80.0  30.000000     37.0  \n",
              "492      0.0      0.0    -79.0    -79.0  30.000000      0.0  \n",
              "493     41.0     41.0      8.0      8.0  63.200000     39.0  \n",
              "494      0.0      0.0    165.0    165.0   0.000000      0.0  \n",
              "\n",
              "[495 rows x 67 columns]"
            ],
            "text/html": [
              "\n",
              "  <div id=\"df-102bb893-4e4f-4249-beaa-83fa8872827e\">\n",
              "    <div class=\"colab-df-container\">\n",
              "      <div>\n",
              "<style scoped>\n",
              "    .dataframe tbody tr th:only-of-type {\n",
              "        vertical-align: middle;\n",
              "    }\n",
              "\n",
              "    .dataframe tbody tr th {\n",
              "        vertical-align: top;\n",
              "    }\n",
              "\n",
              "    .dataframe thead th {\n",
              "        text-align: right;\n",
              "    }\n",
              "</style>\n",
              "<table border=\"1\" class=\"dataframe\">\n",
              "  <thead>\n",
              "    <tr style=\"text-align: right;\">\n",
              "      <th></th>\n",
              "      <th>Unnamed: 0</th>\n",
              "      <th>date</th>\n",
              "      <th>2772803</th>\n",
              "      <th>2772804</th>\n",
              "      <th>2772805</th>\n",
              "      <th>2772806</th>\n",
              "      <th>2772807</th>\n",
              "      <th>2772808</th>\n",
              "      <th>2772809</th>\n",
              "      <th>2772810</th>\n",
              "      <th>...</th>\n",
              "      <th>2772928</th>\n",
              "      <th>2772929</th>\n",
              "      <th>2772930</th>\n",
              "      <th>2772931</th>\n",
              "      <th>2772932</th>\n",
              "      <th>2772933</th>\n",
              "      <th>2772934</th>\n",
              "      <th>2772980</th>\n",
              "      <th>2772981</th>\n",
              "      <th>2772982</th>\n",
              "    </tr>\n",
              "  </thead>\n",
              "  <tbody>\n",
              "    <tr>\n",
              "      <th>0</th>\n",
              "      <td>0</td>\n",
              "      <td>2020-05-05</td>\n",
              "      <td>97.0</td>\n",
              "      <td>97.0</td>\n",
              "      <td>97.0</td>\n",
              "      <td>0.0</td>\n",
              "      <td>198.0</td>\n",
              "      <td>174.0</td>\n",
              "      <td>38.0</td>\n",
              "      <td>0.0</td>\n",
              "      <td>...</td>\n",
              "      <td>0.0</td>\n",
              "      <td>0.0</td>\n",
              "      <td>0.0</td>\n",
              "      <td>0.0</td>\n",
              "      <td>0.0</td>\n",
              "      <td>0.0</td>\n",
              "      <td>82.0</td>\n",
              "      <td>82.0</td>\n",
              "      <td>-76.666667</td>\n",
              "      <td>0.0</td>\n",
              "    </tr>\n",
              "    <tr>\n",
              "      <th>1</th>\n",
              "      <td>1</td>\n",
              "      <td>2020-05-07</td>\n",
              "      <td>79.0</td>\n",
              "      <td>79.0</td>\n",
              "      <td>79.0</td>\n",
              "      <td>-358.0</td>\n",
              "      <td>-119.0</td>\n",
              "      <td>-119.0</td>\n",
              "      <td>86.0</td>\n",
              "      <td>0.0</td>\n",
              "      <td>...</td>\n",
              "      <td>90.0</td>\n",
              "      <td>90.0</td>\n",
              "      <td>42.0</td>\n",
              "      <td>80.0</td>\n",
              "      <td>42.0</td>\n",
              "      <td>42.0</td>\n",
              "      <td>2.0</td>\n",
              "      <td>2.0</td>\n",
              "      <td>-57.857143</td>\n",
              "      <td>47.0</td>\n",
              "    </tr>\n",
              "    <tr>\n",
              "      <th>2</th>\n",
              "      <td>2</td>\n",
              "      <td>2020-05-08</td>\n",
              "      <td>57.0</td>\n",
              "      <td>57.0</td>\n",
              "      <td>57.0</td>\n",
              "      <td>-19.0</td>\n",
              "      <td>-138.0</td>\n",
              "      <td>-138.0</td>\n",
              "      <td>-60.0</td>\n",
              "      <td>0.0</td>\n",
              "      <td>...</td>\n",
              "      <td>0.0</td>\n",
              "      <td>0.0</td>\n",
              "      <td>0.0</td>\n",
              "      <td>0.0</td>\n",
              "      <td>0.0</td>\n",
              "      <td>0.0</td>\n",
              "      <td>2.0</td>\n",
              "      <td>2.0</td>\n",
              "      <td>-44.000000</td>\n",
              "      <td>0.0</td>\n",
              "    </tr>\n",
              "    <tr>\n",
              "      <th>3</th>\n",
              "      <td>3</td>\n",
              "      <td>2020-05-11</td>\n",
              "      <td>73.0</td>\n",
              "      <td>73.0</td>\n",
              "      <td>73.0</td>\n",
              "      <td>-129.0</td>\n",
              "      <td>-195.0</td>\n",
              "      <td>-195.0</td>\n",
              "      <td>-195.0</td>\n",
              "      <td>0.0</td>\n",
              "      <td>...</td>\n",
              "      <td>0.0</td>\n",
              "      <td>0.0</td>\n",
              "      <td>0.0</td>\n",
              "      <td>0.0</td>\n",
              "      <td>0.0</td>\n",
              "      <td>0.0</td>\n",
              "      <td>-72.0</td>\n",
              "      <td>-72.0</td>\n",
              "      <td>30.750000</td>\n",
              "      <td>0.0</td>\n",
              "    </tr>\n",
              "    <tr>\n",
              "      <th>4</th>\n",
              "      <td>4</td>\n",
              "      <td>2020-05-12</td>\n",
              "      <td>53.0</td>\n",
              "      <td>53.0</td>\n",
              "      <td>53.0</td>\n",
              "      <td>-264.0</td>\n",
              "      <td>-204.0</td>\n",
              "      <td>-204.0</td>\n",
              "      <td>-59.0</td>\n",
              "      <td>0.0</td>\n",
              "      <td>...</td>\n",
              "      <td>0.0</td>\n",
              "      <td>0.0</td>\n",
              "      <td>0.0</td>\n",
              "      <td>0.0</td>\n",
              "      <td>0.0</td>\n",
              "      <td>0.0</td>\n",
              "      <td>3.0</td>\n",
              "      <td>3.0</td>\n",
              "      <td>6.400000</td>\n",
              "      <td>0.0</td>\n",
              "    </tr>\n",
              "    <tr>\n",
              "      <th>...</th>\n",
              "      <td>...</td>\n",
              "      <td>...</td>\n",
              "      <td>...</td>\n",
              "      <td>...</td>\n",
              "      <td>...</td>\n",
              "      <td>...</td>\n",
              "      <td>...</td>\n",
              "      <td>...</td>\n",
              "      <td>...</td>\n",
              "      <td>...</td>\n",
              "      <td>...</td>\n",
              "      <td>...</td>\n",
              "      <td>...</td>\n",
              "      <td>...</td>\n",
              "      <td>...</td>\n",
              "      <td>...</td>\n",
              "      <td>...</td>\n",
              "      <td>...</td>\n",
              "      <td>...</td>\n",
              "      <td>...</td>\n",
              "      <td>...</td>\n",
              "    </tr>\n",
              "    <tr>\n",
              "      <th>490</th>\n",
              "      <td>490</td>\n",
              "      <td>2021-09-02</td>\n",
              "      <td>0.0</td>\n",
              "      <td>0.0</td>\n",
              "      <td>0.0</td>\n",
              "      <td>0.0</td>\n",
              "      <td>0.0</td>\n",
              "      <td>0.0</td>\n",
              "      <td>0.0</td>\n",
              "      <td>0.0</td>\n",
              "      <td>...</td>\n",
              "      <td>-9.0</td>\n",
              "      <td>-9.0</td>\n",
              "      <td>-44.0</td>\n",
              "      <td>-58.0</td>\n",
              "      <td>-64.0</td>\n",
              "      <td>-64.0</td>\n",
              "      <td>-76.0</td>\n",
              "      <td>-76.0</td>\n",
              "      <td>14.666667</td>\n",
              "      <td>-62.0</td>\n",
              "    </tr>\n",
              "    <tr>\n",
              "      <th>491</th>\n",
              "      <td>491</td>\n",
              "      <td>2021-10-25</td>\n",
              "      <td>0.0</td>\n",
              "      <td>0.0</td>\n",
              "      <td>0.0</td>\n",
              "      <td>0.0</td>\n",
              "      <td>0.0</td>\n",
              "      <td>0.0</td>\n",
              "      <td>0.0</td>\n",
              "      <td>0.0</td>\n",
              "      <td>...</td>\n",
              "      <td>0.0</td>\n",
              "      <td>0.0</td>\n",
              "      <td>40.0</td>\n",
              "      <td>77.0</td>\n",
              "      <td>40.0</td>\n",
              "      <td>40.0</td>\n",
              "      <td>-80.0</td>\n",
              "      <td>-80.0</td>\n",
              "      <td>30.000000</td>\n",
              "      <td>37.0</td>\n",
              "    </tr>\n",
              "    <tr>\n",
              "      <th>492</th>\n",
              "      <td>492</td>\n",
              "      <td>2021-11-30</td>\n",
              "      <td>0.0</td>\n",
              "      <td>0.0</td>\n",
              "      <td>0.0</td>\n",
              "      <td>0.0</td>\n",
              "      <td>0.0</td>\n",
              "      <td>0.0</td>\n",
              "      <td>0.0</td>\n",
              "      <td>0.0</td>\n",
              "      <td>...</td>\n",
              "      <td>0.0</td>\n",
              "      <td>0.0</td>\n",
              "      <td>0.0</td>\n",
              "      <td>39.0</td>\n",
              "      <td>0.0</td>\n",
              "      <td>0.0</td>\n",
              "      <td>-79.0</td>\n",
              "      <td>-79.0</td>\n",
              "      <td>30.000000</td>\n",
              "      <td>0.0</td>\n",
              "    </tr>\n",
              "    <tr>\n",
              "      <th>493</th>\n",
              "      <td>493</td>\n",
              "      <td>2022-01-11</td>\n",
              "      <td>0.0</td>\n",
              "      <td>0.0</td>\n",
              "      <td>0.0</td>\n",
              "      <td>0.0</td>\n",
              "      <td>0.0</td>\n",
              "      <td>0.0</td>\n",
              "      <td>0.0</td>\n",
              "      <td>0.0</td>\n",
              "      <td>...</td>\n",
              "      <td>55.0</td>\n",
              "      <td>55.0</td>\n",
              "      <td>41.0</td>\n",
              "      <td>39.0</td>\n",
              "      <td>41.0</td>\n",
              "      <td>41.0</td>\n",
              "      <td>8.0</td>\n",
              "      <td>8.0</td>\n",
              "      <td>63.200000</td>\n",
              "      <td>39.0</td>\n",
              "    </tr>\n",
              "    <tr>\n",
              "      <th>494</th>\n",
              "      <td>494</td>\n",
              "      <td>2022-03-02</td>\n",
              "      <td>0.0</td>\n",
              "      <td>0.0</td>\n",
              "      <td>0.0</td>\n",
              "      <td>0.0</td>\n",
              "      <td>0.0</td>\n",
              "      <td>0.0</td>\n",
              "      <td>0.0</td>\n",
              "      <td>0.0</td>\n",
              "      <td>...</td>\n",
              "      <td>0.0</td>\n",
              "      <td>0.0</td>\n",
              "      <td>0.0</td>\n",
              "      <td>0.0</td>\n",
              "      <td>0.0</td>\n",
              "      <td>0.0</td>\n",
              "      <td>165.0</td>\n",
              "      <td>165.0</td>\n",
              "      <td>0.000000</td>\n",
              "      <td>0.0</td>\n",
              "    </tr>\n",
              "  </tbody>\n",
              "</table>\n",
              "<p>495 rows × 67 columns</p>\n",
              "</div>\n",
              "      <button class=\"colab-df-convert\" onclick=\"convertToInteractive('df-102bb893-4e4f-4249-beaa-83fa8872827e')\"\n",
              "              title=\"Convert this dataframe to an interactive table.\"\n",
              "              style=\"display:none;\">\n",
              "        \n",
              "  <svg xmlns=\"http://www.w3.org/2000/svg\" height=\"24px\"viewBox=\"0 0 24 24\"\n",
              "       width=\"24px\">\n",
              "    <path d=\"M0 0h24v24H0V0z\" fill=\"none\"/>\n",
              "    <path d=\"M18.56 5.44l.94 2.06.94-2.06 2.06-.94-2.06-.94-.94-2.06-.94 2.06-2.06.94zm-11 1L8.5 8.5l.94-2.06 2.06-.94-2.06-.94L8.5 2.5l-.94 2.06-2.06.94zm10 10l.94 2.06.94-2.06 2.06-.94-2.06-.94-.94-2.06-.94 2.06-2.06.94z\"/><path d=\"M17.41 7.96l-1.37-1.37c-.4-.4-.92-.59-1.43-.59-.52 0-1.04.2-1.43.59L10.3 9.45l-7.72 7.72c-.78.78-.78 2.05 0 2.83L4 21.41c.39.39.9.59 1.41.59.51 0 1.02-.2 1.41-.59l7.78-7.78 2.81-2.81c.8-.78.8-2.07 0-2.86zM5.41 20L4 18.59l7.72-7.72 1.47 1.35L5.41 20z\"/>\n",
              "  </svg>\n",
              "      </button>\n",
              "      \n",
              "  <style>\n",
              "    .colab-df-container {\n",
              "      display:flex;\n",
              "      flex-wrap:wrap;\n",
              "      gap: 12px;\n",
              "    }\n",
              "\n",
              "    .colab-df-convert {\n",
              "      background-color: #E8F0FE;\n",
              "      border: none;\n",
              "      border-radius: 50%;\n",
              "      cursor: pointer;\n",
              "      display: none;\n",
              "      fill: #1967D2;\n",
              "      height: 32px;\n",
              "      padding: 0 0 0 0;\n",
              "      width: 32px;\n",
              "    }\n",
              "\n",
              "    .colab-df-convert:hover {\n",
              "      background-color: #E2EBFA;\n",
              "      box-shadow: 0px 1px 2px rgba(60, 64, 67, 0.3), 0px 1px 3px 1px rgba(60, 64, 67, 0.15);\n",
              "      fill: #174EA6;\n",
              "    }\n",
              "\n",
              "    [theme=dark] .colab-df-convert {\n",
              "      background-color: #3B4455;\n",
              "      fill: #D2E3FC;\n",
              "    }\n",
              "\n",
              "    [theme=dark] .colab-df-convert:hover {\n",
              "      background-color: #434B5C;\n",
              "      box-shadow: 0px 1px 3px 1px rgba(0, 0, 0, 0.15);\n",
              "      filter: drop-shadow(0px 1px 2px rgba(0, 0, 0, 0.3));\n",
              "      fill: #FFFFFF;\n",
              "    }\n",
              "  </style>\n",
              "\n",
              "      <script>\n",
              "        const buttonEl =\n",
              "          document.querySelector('#df-102bb893-4e4f-4249-beaa-83fa8872827e button.colab-df-convert');\n",
              "        buttonEl.style.display =\n",
              "          google.colab.kernel.accessAllowed ? 'block' : 'none';\n",
              "\n",
              "        async function convertToInteractive(key) {\n",
              "          const element = document.querySelector('#df-102bb893-4e4f-4249-beaa-83fa8872827e');\n",
              "          const dataTable =\n",
              "            await google.colab.kernel.invokeFunction('convertToInteractive',\n",
              "                                                     [key], {});\n",
              "          if (!dataTable) return;\n",
              "\n",
              "          const docLinkHtml = 'Like what you see? Visit the ' +\n",
              "            '<a target=\"_blank\" href=https://colab.research.google.com/notebooks/data_table.ipynb>data table notebook</a>'\n",
              "            + ' to learn more about interactive tables.';\n",
              "          element.innerHTML = '';\n",
              "          dataTable['output_type'] = 'display_data';\n",
              "          await google.colab.output.renderOutput(dataTable, element);\n",
              "          const docLink = document.createElement('div');\n",
              "          docLink.innerHTML = docLinkHtml;\n",
              "          element.appendChild(docLink);\n",
              "        }\n",
              "      </script>\n",
              "    </div>\n",
              "  </div>\n",
              "  "
            ]
          },
          "metadata": {}
        }
      ]
    },
    {
      "cell_type": "code",
      "source": [
        "#Verificando a linhas do início e do fim e o tamanho dos dados\n",
        "display(df_trade)"
      ],
      "metadata": {
        "colab": {
          "base_uri": "https://localhost:8080/",
          "height": 679
        },
        "id": "ai3Ct9LmLQjB",
        "outputId": "0856a9cd-d3a0-47b1-e002-04b139757602"
      },
      "execution_count": null,
      "outputs": [
        {
          "output_type": "display_data",
          "data": {
            "text/plain": [
              "     Unnamed: 0        date  2772803  2772804  2772805  2772806  2772807  \\\n",
              "0             0  2020-05-05      1.0      1.0      1.0      0.0      1.0   \n",
              "1             1  2020-05-07      1.0      1.0      1.0      1.0      2.0   \n",
              "2             2  2020-05-08      1.0      1.0      1.0      1.0      2.0   \n",
              "3             3  2020-05-11      1.0      1.0      1.0      1.0      2.0   \n",
              "4             4  2020-05-12      1.0      1.0      1.0      1.0      2.0   \n",
              "..          ...         ...      ...      ...      ...      ...      ...   \n",
              "490         490  2021-09-02      0.0      0.0      0.0      0.0      0.0   \n",
              "491         491  2021-10-25      0.0      0.0      0.0      0.0      0.0   \n",
              "492         492  2021-11-30      0.0      0.0      0.0      0.0      0.0   \n",
              "493         493  2022-01-11      0.0      0.0      0.0      0.0      0.0   \n",
              "494         494  2022-03-02      0.0      0.0      0.0      0.0      0.0   \n",
              "\n",
              "     2772808  2772809  2772810  ...  2772928  2772929  2772930  2772931  \\\n",
              "0        1.0      1.0      0.0  ...      0.0      0.0      0.0      0.0   \n",
              "1        2.0      2.0      0.0  ...      1.0      1.0      1.0      2.0   \n",
              "2        2.0      2.0      0.0  ...      0.0      0.0      0.0      0.0   \n",
              "3        2.0      2.0      0.0  ...      0.0      0.0      0.0      0.0   \n",
              "4        2.0      2.0      0.0  ...      0.0      0.0      0.0      0.0   \n",
              "..       ...      ...      ...  ...      ...      ...      ...      ...   \n",
              "490      0.0      0.0      0.0  ...      1.0      1.0      1.0      1.0   \n",
              "491      0.0      0.0      0.0  ...      0.0      0.0      1.0      2.0   \n",
              "492      0.0      0.0      0.0  ...      0.0      0.0      0.0      1.0   \n",
              "493      0.0      0.0      0.0  ...      1.0      1.0      1.0      1.0   \n",
              "494      0.0      0.0      0.0  ...      0.0      0.0      0.0      0.0   \n",
              "\n",
              "     2772932  2772933  2772934  2772980  2772981  2772982  \n",
              "0        0.0      0.0        3        3      2.0      0.0  \n",
              "1        1.0      1.0        3        3      5.0      1.0  \n",
              "2        0.0      0.0        3        3      1.0      0.0  \n",
              "3        0.0      0.0        3        3      3.0      0.0  \n",
              "4        0.0      0.0        3        3      4.0      0.0  \n",
              "..       ...      ...      ...      ...      ...      ...  \n",
              "490      1.0      1.0        3        3      2.0      1.0  \n",
              "491      1.0      1.0        3        3      1.0      1.0  \n",
              "492      0.0      0.0        3        3      1.0      0.0  \n",
              "493      1.0      1.0        3        3      4.0      1.0  \n",
              "494      0.0      0.0        3        3      0.0      0.0  \n",
              "\n",
              "[495 rows x 67 columns]"
            ],
            "text/html": [
              "\n",
              "  <div id=\"df-a7a0fa69-6fb5-47fc-89df-5ecd1d11bf89\">\n",
              "    <div class=\"colab-df-container\">\n",
              "      <div>\n",
              "<style scoped>\n",
              "    .dataframe tbody tr th:only-of-type {\n",
              "        vertical-align: middle;\n",
              "    }\n",
              "\n",
              "    .dataframe tbody tr th {\n",
              "        vertical-align: top;\n",
              "    }\n",
              "\n",
              "    .dataframe thead th {\n",
              "        text-align: right;\n",
              "    }\n",
              "</style>\n",
              "<table border=\"1\" class=\"dataframe\">\n",
              "  <thead>\n",
              "    <tr style=\"text-align: right;\">\n",
              "      <th></th>\n",
              "      <th>Unnamed: 0</th>\n",
              "      <th>date</th>\n",
              "      <th>2772803</th>\n",
              "      <th>2772804</th>\n",
              "      <th>2772805</th>\n",
              "      <th>2772806</th>\n",
              "      <th>2772807</th>\n",
              "      <th>2772808</th>\n",
              "      <th>2772809</th>\n",
              "      <th>2772810</th>\n",
              "      <th>...</th>\n",
              "      <th>2772928</th>\n",
              "      <th>2772929</th>\n",
              "      <th>2772930</th>\n",
              "      <th>2772931</th>\n",
              "      <th>2772932</th>\n",
              "      <th>2772933</th>\n",
              "      <th>2772934</th>\n",
              "      <th>2772980</th>\n",
              "      <th>2772981</th>\n",
              "      <th>2772982</th>\n",
              "    </tr>\n",
              "  </thead>\n",
              "  <tbody>\n",
              "    <tr>\n",
              "      <th>0</th>\n",
              "      <td>0</td>\n",
              "      <td>2020-05-05</td>\n",
              "      <td>1.0</td>\n",
              "      <td>1.0</td>\n",
              "      <td>1.0</td>\n",
              "      <td>0.0</td>\n",
              "      <td>1.0</td>\n",
              "      <td>1.0</td>\n",
              "      <td>1.0</td>\n",
              "      <td>0.0</td>\n",
              "      <td>...</td>\n",
              "      <td>0.0</td>\n",
              "      <td>0.0</td>\n",
              "      <td>0.0</td>\n",
              "      <td>0.0</td>\n",
              "      <td>0.0</td>\n",
              "      <td>0.0</td>\n",
              "      <td>3</td>\n",
              "      <td>3</td>\n",
              "      <td>2.0</td>\n",
              "      <td>0.0</td>\n",
              "    </tr>\n",
              "    <tr>\n",
              "      <th>1</th>\n",
              "      <td>1</td>\n",
              "      <td>2020-05-07</td>\n",
              "      <td>1.0</td>\n",
              "      <td>1.0</td>\n",
              "      <td>1.0</td>\n",
              "      <td>1.0</td>\n",
              "      <td>2.0</td>\n",
              "      <td>2.0</td>\n",
              "      <td>2.0</td>\n",
              "      <td>0.0</td>\n",
              "      <td>...</td>\n",
              "      <td>1.0</td>\n",
              "      <td>1.0</td>\n",
              "      <td>1.0</td>\n",
              "      <td>2.0</td>\n",
              "      <td>1.0</td>\n",
              "      <td>1.0</td>\n",
              "      <td>3</td>\n",
              "      <td>3</td>\n",
              "      <td>5.0</td>\n",
              "      <td>1.0</td>\n",
              "    </tr>\n",
              "    <tr>\n",
              "      <th>2</th>\n",
              "      <td>2</td>\n",
              "      <td>2020-05-08</td>\n",
              "      <td>1.0</td>\n",
              "      <td>1.0</td>\n",
              "      <td>1.0</td>\n",
              "      <td>1.0</td>\n",
              "      <td>2.0</td>\n",
              "      <td>2.0</td>\n",
              "      <td>2.0</td>\n",
              "      <td>0.0</td>\n",
              "      <td>...</td>\n",
              "      <td>0.0</td>\n",
              "      <td>0.0</td>\n",
              "      <td>0.0</td>\n",
              "      <td>0.0</td>\n",
              "      <td>0.0</td>\n",
              "      <td>0.0</td>\n",
              "      <td>3</td>\n",
              "      <td>3</td>\n",
              "      <td>1.0</td>\n",
              "      <td>0.0</td>\n",
              "    </tr>\n",
              "    <tr>\n",
              "      <th>3</th>\n",
              "      <td>3</td>\n",
              "      <td>2020-05-11</td>\n",
              "      <td>1.0</td>\n",
              "      <td>1.0</td>\n",
              "      <td>1.0</td>\n",
              "      <td>1.0</td>\n",
              "      <td>2.0</td>\n",
              "      <td>2.0</td>\n",
              "      <td>2.0</td>\n",
              "      <td>0.0</td>\n",
              "      <td>...</td>\n",
              "      <td>0.0</td>\n",
              "      <td>0.0</td>\n",
              "      <td>0.0</td>\n",
              "      <td>0.0</td>\n",
              "      <td>0.0</td>\n",
              "      <td>0.0</td>\n",
              "      <td>3</td>\n",
              "      <td>3</td>\n",
              "      <td>3.0</td>\n",
              "      <td>0.0</td>\n",
              "    </tr>\n",
              "    <tr>\n",
              "      <th>4</th>\n",
              "      <td>4</td>\n",
              "      <td>2020-05-12</td>\n",
              "      <td>1.0</td>\n",
              "      <td>1.0</td>\n",
              "      <td>1.0</td>\n",
              "      <td>1.0</td>\n",
              "      <td>2.0</td>\n",
              "      <td>2.0</td>\n",
              "      <td>2.0</td>\n",
              "      <td>0.0</td>\n",
              "      <td>...</td>\n",
              "      <td>0.0</td>\n",
              "      <td>0.0</td>\n",
              "      <td>0.0</td>\n",
              "      <td>0.0</td>\n",
              "      <td>0.0</td>\n",
              "      <td>0.0</td>\n",
              "      <td>3</td>\n",
              "      <td>3</td>\n",
              "      <td>4.0</td>\n",
              "      <td>0.0</td>\n",
              "    </tr>\n",
              "    <tr>\n",
              "      <th>...</th>\n",
              "      <td>...</td>\n",
              "      <td>...</td>\n",
              "      <td>...</td>\n",
              "      <td>...</td>\n",
              "      <td>...</td>\n",
              "      <td>...</td>\n",
              "      <td>...</td>\n",
              "      <td>...</td>\n",
              "      <td>...</td>\n",
              "      <td>...</td>\n",
              "      <td>...</td>\n",
              "      <td>...</td>\n",
              "      <td>...</td>\n",
              "      <td>...</td>\n",
              "      <td>...</td>\n",
              "      <td>...</td>\n",
              "      <td>...</td>\n",
              "      <td>...</td>\n",
              "      <td>...</td>\n",
              "      <td>...</td>\n",
              "      <td>...</td>\n",
              "    </tr>\n",
              "    <tr>\n",
              "      <th>490</th>\n",
              "      <td>490</td>\n",
              "      <td>2021-09-02</td>\n",
              "      <td>0.0</td>\n",
              "      <td>0.0</td>\n",
              "      <td>0.0</td>\n",
              "      <td>0.0</td>\n",
              "      <td>0.0</td>\n",
              "      <td>0.0</td>\n",
              "      <td>0.0</td>\n",
              "      <td>0.0</td>\n",
              "      <td>...</td>\n",
              "      <td>1.0</td>\n",
              "      <td>1.0</td>\n",
              "      <td>1.0</td>\n",
              "      <td>1.0</td>\n",
              "      <td>1.0</td>\n",
              "      <td>1.0</td>\n",
              "      <td>3</td>\n",
              "      <td>3</td>\n",
              "      <td>2.0</td>\n",
              "      <td>1.0</td>\n",
              "    </tr>\n",
              "    <tr>\n",
              "      <th>491</th>\n",
              "      <td>491</td>\n",
              "      <td>2021-10-25</td>\n",
              "      <td>0.0</td>\n",
              "      <td>0.0</td>\n",
              "      <td>0.0</td>\n",
              "      <td>0.0</td>\n",
              "      <td>0.0</td>\n",
              "      <td>0.0</td>\n",
              "      <td>0.0</td>\n",
              "      <td>0.0</td>\n",
              "      <td>...</td>\n",
              "      <td>0.0</td>\n",
              "      <td>0.0</td>\n",
              "      <td>1.0</td>\n",
              "      <td>2.0</td>\n",
              "      <td>1.0</td>\n",
              "      <td>1.0</td>\n",
              "      <td>3</td>\n",
              "      <td>3</td>\n",
              "      <td>1.0</td>\n",
              "      <td>1.0</td>\n",
              "    </tr>\n",
              "    <tr>\n",
              "      <th>492</th>\n",
              "      <td>492</td>\n",
              "      <td>2021-11-30</td>\n",
              "      <td>0.0</td>\n",
              "      <td>0.0</td>\n",
              "      <td>0.0</td>\n",
              "      <td>0.0</td>\n",
              "      <td>0.0</td>\n",
              "      <td>0.0</td>\n",
              "      <td>0.0</td>\n",
              "      <td>0.0</td>\n",
              "      <td>...</td>\n",
              "      <td>0.0</td>\n",
              "      <td>0.0</td>\n",
              "      <td>0.0</td>\n",
              "      <td>1.0</td>\n",
              "      <td>0.0</td>\n",
              "      <td>0.0</td>\n",
              "      <td>3</td>\n",
              "      <td>3</td>\n",
              "      <td>1.0</td>\n",
              "      <td>0.0</td>\n",
              "    </tr>\n",
              "    <tr>\n",
              "      <th>493</th>\n",
              "      <td>493</td>\n",
              "      <td>2022-01-11</td>\n",
              "      <td>0.0</td>\n",
              "      <td>0.0</td>\n",
              "      <td>0.0</td>\n",
              "      <td>0.0</td>\n",
              "      <td>0.0</td>\n",
              "      <td>0.0</td>\n",
              "      <td>0.0</td>\n",
              "      <td>0.0</td>\n",
              "      <td>...</td>\n",
              "      <td>1.0</td>\n",
              "      <td>1.0</td>\n",
              "      <td>1.0</td>\n",
              "      <td>1.0</td>\n",
              "      <td>1.0</td>\n",
              "      <td>1.0</td>\n",
              "      <td>3</td>\n",
              "      <td>3</td>\n",
              "      <td>4.0</td>\n",
              "      <td>1.0</td>\n",
              "    </tr>\n",
              "    <tr>\n",
              "      <th>494</th>\n",
              "      <td>494</td>\n",
              "      <td>2022-03-02</td>\n",
              "      <td>0.0</td>\n",
              "      <td>0.0</td>\n",
              "      <td>0.0</td>\n",
              "      <td>0.0</td>\n",
              "      <td>0.0</td>\n",
              "      <td>0.0</td>\n",
              "      <td>0.0</td>\n",
              "      <td>0.0</td>\n",
              "      <td>...</td>\n",
              "      <td>0.0</td>\n",
              "      <td>0.0</td>\n",
              "      <td>0.0</td>\n",
              "      <td>0.0</td>\n",
              "      <td>0.0</td>\n",
              "      <td>0.0</td>\n",
              "      <td>3</td>\n",
              "      <td>3</td>\n",
              "      <td>0.0</td>\n",
              "      <td>0.0</td>\n",
              "    </tr>\n",
              "  </tbody>\n",
              "</table>\n",
              "<p>495 rows × 67 columns</p>\n",
              "</div>\n",
              "      <button class=\"colab-df-convert\" onclick=\"convertToInteractive('df-a7a0fa69-6fb5-47fc-89df-5ecd1d11bf89')\"\n",
              "              title=\"Convert this dataframe to an interactive table.\"\n",
              "              style=\"display:none;\">\n",
              "        \n",
              "  <svg xmlns=\"http://www.w3.org/2000/svg\" height=\"24px\"viewBox=\"0 0 24 24\"\n",
              "       width=\"24px\">\n",
              "    <path d=\"M0 0h24v24H0V0z\" fill=\"none\"/>\n",
              "    <path d=\"M18.56 5.44l.94 2.06.94-2.06 2.06-.94-2.06-.94-.94-2.06-.94 2.06-2.06.94zm-11 1L8.5 8.5l.94-2.06 2.06-.94-2.06-.94L8.5 2.5l-.94 2.06-2.06.94zm10 10l.94 2.06.94-2.06 2.06-.94-2.06-.94-.94-2.06-.94 2.06-2.06.94z\"/><path d=\"M17.41 7.96l-1.37-1.37c-.4-.4-.92-.59-1.43-.59-.52 0-1.04.2-1.43.59L10.3 9.45l-7.72 7.72c-.78.78-.78 2.05 0 2.83L4 21.41c.39.39.9.59 1.41.59.51 0 1.02-.2 1.41-.59l7.78-7.78 2.81-2.81c.8-.78.8-2.07 0-2.86zM5.41 20L4 18.59l7.72-7.72 1.47 1.35L5.41 20z\"/>\n",
              "  </svg>\n",
              "      </button>\n",
              "      \n",
              "  <style>\n",
              "    .colab-df-container {\n",
              "      display:flex;\n",
              "      flex-wrap:wrap;\n",
              "      gap: 12px;\n",
              "    }\n",
              "\n",
              "    .colab-df-convert {\n",
              "      background-color: #E8F0FE;\n",
              "      border: none;\n",
              "      border-radius: 50%;\n",
              "      cursor: pointer;\n",
              "      display: none;\n",
              "      fill: #1967D2;\n",
              "      height: 32px;\n",
              "      padding: 0 0 0 0;\n",
              "      width: 32px;\n",
              "    }\n",
              "\n",
              "    .colab-df-convert:hover {\n",
              "      background-color: #E2EBFA;\n",
              "      box-shadow: 0px 1px 2px rgba(60, 64, 67, 0.3), 0px 1px 3px 1px rgba(60, 64, 67, 0.15);\n",
              "      fill: #174EA6;\n",
              "    }\n",
              "\n",
              "    [theme=dark] .colab-df-convert {\n",
              "      background-color: #3B4455;\n",
              "      fill: #D2E3FC;\n",
              "    }\n",
              "\n",
              "    [theme=dark] .colab-df-convert:hover {\n",
              "      background-color: #434B5C;\n",
              "      box-shadow: 0px 1px 3px 1px rgba(0, 0, 0, 0.15);\n",
              "      filter: drop-shadow(0px 1px 2px rgba(0, 0, 0, 0.3));\n",
              "      fill: #FFFFFF;\n",
              "    }\n",
              "  </style>\n",
              "\n",
              "      <script>\n",
              "        const buttonEl =\n",
              "          document.querySelector('#df-a7a0fa69-6fb5-47fc-89df-5ecd1d11bf89 button.colab-df-convert');\n",
              "        buttonEl.style.display =\n",
              "          google.colab.kernel.accessAllowed ? 'block' : 'none';\n",
              "\n",
              "        async function convertToInteractive(key) {\n",
              "          const element = document.querySelector('#df-a7a0fa69-6fb5-47fc-89df-5ecd1d11bf89');\n",
              "          const dataTable =\n",
              "            await google.colab.kernel.invokeFunction('convertToInteractive',\n",
              "                                                     [key], {});\n",
              "          if (!dataTable) return;\n",
              "\n",
              "          const docLinkHtml = 'Like what you see? Visit the ' +\n",
              "            '<a target=\"_blank\" href=https://colab.research.google.com/notebooks/data_table.ipynb>data table notebook</a>'\n",
              "            + ' to learn more about interactive tables.';\n",
              "          element.innerHTML = '';\n",
              "          dataTable['output_type'] = 'display_data';\n",
              "          await google.colab.output.renderOutput(dataTable, element);\n",
              "          const docLink = document.createElement('div');\n",
              "          docLink.innerHTML = docLinkHtml;\n",
              "          element.appendChild(docLink);\n",
              "        }\n",
              "      </script>\n",
              "    </div>\n",
              "  </div>\n",
              "  "
            ]
          },
          "metadata": {}
        }
      ]
    },
    {
      "cell_type": "code",
      "source": [
        "#Visualizando os tipos de dados\n",
        "df_resultado.dtypes"
      ],
      "metadata": {
        "colab": {
          "base_uri": "https://localhost:8080/"
        },
        "id": "gTGX0RAn-2sq",
        "outputId": "ab403411-0264-473d-afaf-4c42aa6693fd"
      },
      "execution_count": null,
      "outputs": [
        {
          "output_type": "execute_result",
          "data": {
            "text/plain": [
              "Unnamed: 0      int64\n",
              "date           object\n",
              "2772803       float64\n",
              "2772804       float64\n",
              "2772805       float64\n",
              "               ...   \n",
              "2772933       float64\n",
              "2772934       float64\n",
              "2772980       float64\n",
              "2772981       float64\n",
              "2772982       float64\n",
              "Length: 67, dtype: object"
            ]
          },
          "metadata": {},
          "execution_count": 13
        }
      ]
    },
    {
      "cell_type": "code",
      "source": [
        "#Visualizando os tipos de dados\n",
        "df_trade.dtypes"
      ],
      "metadata": {
        "colab": {
          "base_uri": "https://localhost:8080/"
        },
        "id": "lYDmPy6DLcs1",
        "outputId": "78543678-198b-4e9c-8a43-9bfb0bbdb502"
      },
      "execution_count": null,
      "outputs": [
        {
          "output_type": "execute_result",
          "data": {
            "text/plain": [
              "Unnamed: 0      int64\n",
              "date           object\n",
              "2772803       float64\n",
              "2772804       float64\n",
              "2772805       float64\n",
              "               ...   \n",
              "2772933       float64\n",
              "2772934         int64\n",
              "2772980         int64\n",
              "2772981       float64\n",
              "2772982       float64\n",
              "Length: 67, dtype: object"
            ]
          },
          "metadata": {},
          "execution_count": 14
        }
      ]
    },
    {
      "cell_type": "code",
      "source": [
        "#Verifica se existem dados nulos nas colunas\n",
        "df_resultado.isnull().values.any()"
      ],
      "metadata": {
        "colab": {
          "base_uri": "https://localhost:8080/"
        },
        "id": "luzLRDN89AP7",
        "outputId": "5acdd158-66c7-44fd-be2c-144a26827fa5"
      },
      "execution_count": null,
      "outputs": [
        {
          "output_type": "execute_result",
          "data": {
            "text/plain": [
              "False"
            ]
          },
          "metadata": {},
          "execution_count": 15
        }
      ]
    },
    {
      "cell_type": "code",
      "source": [
        "#Verifica se existem dados nulos nas colunas\n",
        "df_trade.isnull().values.any()"
      ],
      "metadata": {
        "colab": {
          "base_uri": "https://localhost:8080/"
        },
        "id": "2GMtYPfXLl97",
        "outputId": "5c604d17-1796-4101-a31f-23c5d0d03525"
      },
      "execution_count": null,
      "outputs": [
        {
          "output_type": "execute_result",
          "data": {
            "text/plain": [
              "False"
            ]
          },
          "metadata": {},
          "execution_count": 16
        }
      ]
    },
    {
      "cell_type": "code",
      "source": [
        "#Conta os dados nulos por coluna\n",
        "df_resultado.isnull().sum()"
      ],
      "metadata": {
        "id": "DXknEpusAi9K",
        "colab": {
          "base_uri": "https://localhost:8080/"
        },
        "outputId": "476c476b-06da-4cd2-f2f7-7bea6d423913"
      },
      "execution_count": null,
      "outputs": [
        {
          "output_type": "execute_result",
          "data": {
            "text/plain": [
              "Unnamed: 0    0\n",
              "date          0\n",
              "2772803       0\n",
              "2772804       0\n",
              "2772805       0\n",
              "             ..\n",
              "2772933       0\n",
              "2772934       0\n",
              "2772980       0\n",
              "2772981       0\n",
              "2772982       0\n",
              "Length: 67, dtype: int64"
            ]
          },
          "metadata": {},
          "execution_count": 17
        }
      ]
    },
    {
      "cell_type": "code",
      "source": [
        "#Conta os dados nulos por coluna\n",
        "df_trade.isnull().sum()"
      ],
      "metadata": {
        "colab": {
          "base_uri": "https://localhost:8080/"
        },
        "id": "CTWtVHd8-kFA",
        "outputId": "38a54e6a-0522-4038-aac7-74fa988520f9"
      },
      "execution_count": null,
      "outputs": [
        {
          "output_type": "execute_result",
          "data": {
            "text/plain": [
              "Unnamed: 0    0\n",
              "date          0\n",
              "2772803       0\n",
              "2772804       0\n",
              "2772805       0\n",
              "             ..\n",
              "2772933       0\n",
              "2772934       0\n",
              "2772980       0\n",
              "2772981       0\n",
              "2772982       0\n",
              "Length: 67, dtype: int64"
            ]
          },
          "metadata": {},
          "execution_count": 18
        }
      ]
    },
    {
      "cell_type": "code",
      "source": [
        "#Verificando os valores válidos\n",
        "df_resultado.count()"
      ],
      "metadata": {
        "id": "cXBYY1y3Ay_K",
        "colab": {
          "base_uri": "https://localhost:8080/"
        },
        "outputId": "ac9cc0b8-c0fe-4e04-fc7c-140e586c5017"
      },
      "execution_count": null,
      "outputs": [
        {
          "output_type": "execute_result",
          "data": {
            "text/plain": [
              "Unnamed: 0    495\n",
              "date          495\n",
              "2772803       495\n",
              "2772804       495\n",
              "2772805       495\n",
              "             ... \n",
              "2772933       495\n",
              "2772934       495\n",
              "2772980       495\n",
              "2772981       495\n",
              "2772982       495\n",
              "Length: 67, dtype: int64"
            ]
          },
          "metadata": {},
          "execution_count": 19
        }
      ]
    },
    {
      "cell_type": "code",
      "source": [
        "##Verificando os valores válidos\n",
        "df_trade.count()"
      ],
      "metadata": {
        "id": "R19Fih2wAxz4",
        "colab": {
          "base_uri": "https://localhost:8080/"
        },
        "outputId": "fb358552-392c-4ddf-dc98-bdfe7b6b6d04"
      },
      "execution_count": null,
      "outputs": [
        {
          "output_type": "execute_result",
          "data": {
            "text/plain": [
              "Unnamed: 0    495\n",
              "date          495\n",
              "2772803       495\n",
              "2772804       495\n",
              "2772805       495\n",
              "             ... \n",
              "2772933       495\n",
              "2772934       495\n",
              "2772980       495\n",
              "2772981       495\n",
              "2772982       495\n",
              "Length: 67, dtype: int64"
            ]
          },
          "metadata": {},
          "execution_count": 20
        }
      ]
    },
    {
      "cell_type": "code",
      "source": [
        "#Verificando as colunas\n",
        "df_resultado.columns"
      ],
      "metadata": {
        "colab": {
          "base_uri": "https://localhost:8080/"
        },
        "id": "OyaoCUxKAfMH",
        "outputId": "fb85a31d-9820-4542-a13a-13fa3c8f294c"
      },
      "execution_count": null,
      "outputs": [
        {
          "output_type": "execute_result",
          "data": {
            "text/plain": [
              "Index(['Unnamed: 0', 'date', '2772803', '2772804', '2772805', '2772806',\n",
              "       '2772807', '2772808', '2772809', '2772810', '2772811', '2772812',\n",
              "       '2772813', '2772814', '2772815', '2772816', '2772817', '2772818',\n",
              "       '2772819', '2772820', '2772821', '2772822', '2772859', '2772860',\n",
              "       '2772861', '2772862', '2772863', '2772864', '2772865', '2772866',\n",
              "       '2772867', '2772868', '2772869', '2772870', '2772871', '2772872',\n",
              "       '2772873', '2772874', '2772875', '2772876', '2772877', '2772878',\n",
              "       '2772879', '2772914', '2772915', '2772916', '2772917', '2772918',\n",
              "       '2772919', '2772920', '2772921', '2772922', '2772923', '2772924',\n",
              "       '2772925', '2772926', '2772927', '2772928', '2772929', '2772930',\n",
              "       '2772931', '2772932', '2772933', '2772934', '2772980', '2772981',\n",
              "       '2772982'],\n",
              "      dtype='object')"
            ]
          },
          "metadata": {},
          "execution_count": 21
        }
      ]
    },
    {
      "cell_type": "code",
      "source": [
        "#Verificando as colunas\n",
        "df_trade.columns"
      ],
      "metadata": {
        "colab": {
          "base_uri": "https://localhost:8080/"
        },
        "id": "9DQfXymeKS10",
        "outputId": "36c6fe21-1612-4732-ad3f-60e15c64dcb6"
      },
      "execution_count": null,
      "outputs": [
        {
          "output_type": "execute_result",
          "data": {
            "text/plain": [
              "Index(['Unnamed: 0', 'date', '2772803', '2772804', '2772805', '2772806',\n",
              "       '2772807', '2772808', '2772809', '2772810', '2772811', '2772812',\n",
              "       '2772813', '2772814', '2772815', '2772816', '2772817', '2772818',\n",
              "       '2772819', '2772820', '2772821', '2772822', '2772859', '2772860',\n",
              "       '2772861', '2772862', '2772863', '2772864', '2772865', '2772866',\n",
              "       '2772867', '2772868', '2772869', '2772870', '2772871', '2772872',\n",
              "       '2772873', '2772874', '2772875', '2772876', '2772877', '2772878',\n",
              "       '2772879', '2772914', '2772915', '2772916', '2772917', '2772918',\n",
              "       '2772919', '2772920', '2772921', '2772922', '2772923', '2772924',\n",
              "       '2772925', '2772926', '2772927', '2772928', '2772929', '2772930',\n",
              "       '2772931', '2772932', '2772933', '2772934', '2772980', '2772981',\n",
              "       '2772982'],\n",
              "      dtype='object')"
            ]
          },
          "metadata": {},
          "execution_count": 22
        }
      ]
    },
    {
      "cell_type": "code",
      "source": [
        "#Verificando os valores únicos\n",
        "df_resultado['2772926'].unique()"
      ],
      "metadata": {
        "colab": {
          "base_uri": "https://localhost:8080/"
        },
        "id": "meIml5lABZFv",
        "outputId": "5bc7e53d-ec75-40ca-b9d3-b602f99b3093"
      },
      "execution_count": null,
      "outputs": [
        {
          "output_type": "execute_result",
          "data": {
            "text/plain": [
              "array([ -2. ,  -9. , -13.5,  -1.5, -23. ,  -4. , -19. , -15. ,  -0.5,\n",
              "       -22. , -14.5, -12. ,  -8. ,  -3.5,   0. , -18. ,  85.5, -11. ,\n",
              "        -7. , -16. , -17. , 165.5, 138. ,  92.5,  92. ,  -1. ,  -6.5,\n",
              "        62.5,  -6. ,  -5.5,  -9.5, 269.5,  86.5, 192. , 150.5, -10.5,\n",
              "       113.5, 118. ,  -3. ,  23. , -15.5, 189.5,  -5. , 176.5, -13. ,\n",
              "       152.5,  76.5, -12.5,  76. ,  -7.5, -14. , 216. , 102. , 122.5,\n",
              "        29. , -21. , -10. , -20. ,  87.5, -11.5, 276.5,  82.5, 149. ,\n",
              "         6. ,  47.5,  49.5,  36. , 123. , 226. ,  -2.5,  44.5, 161.5,\n",
              "        78. ,  36.5, 144. ,  -8.5,  26. ,  75. ,  96. ,  70.5, 265. ,\n",
              "        38. ,  59.5, 177. , 161. ,  11.5,   9.5, 162.5, 218.5, 132.5,\n",
              "        38.5,  45.5,  -4.5, 101.5,  88. , -24. , 191. ,  51. , 263. ,\n",
              "        61. , 108. , 145.5, 134.5, 253.5,  30. , -16.5,  97.5])"
            ]
          },
          "metadata": {},
          "execution_count": 23
        }
      ]
    },
    {
      "cell_type": "code",
      "source": [
        "#Verificando os valores únicos\n",
        "df_trade['2772926'].unique()"
      ],
      "metadata": {
        "colab": {
          "base_uri": "https://localhost:8080/"
        },
        "id": "nfXhRNF9K31r",
        "outputId": "49b84ba5-2052-4852-d37b-5ee323f9518f"
      },
      "execution_count": null,
      "outputs": [
        {
          "output_type": "execute_result",
          "data": {
            "text/plain": [
              "array([ 1,  3,  6,  4,  2, 12, 19, 23, 17, 11, 21, 28, 25, 29, 15, 14,  7,\n",
              "        5, 24, 30, 27, 37, 33, 31, 34, 38, 20,  8, 41, 10, 18,  9, 26, 13,\n",
              "       16, 36, 32, 40])"
            ]
          },
          "metadata": {},
          "execution_count": 24
        }
      ]
    },
    {
      "cell_type": "code",
      "source": [
        "#Verificando os valores únicos\n",
        "df_trade['date'].unique()"
      ],
      "metadata": {
        "colab": {
          "base_uri": "https://localhost:8080/"
        },
        "id": "nmJTRbawK_3-",
        "outputId": "f8ba1066-a363-4e37-d8b6-8c545aa44437"
      },
      "execution_count": null,
      "outputs": [
        {
          "output_type": "execute_result",
          "data": {
            "text/plain": [
              "array(['2020-05-05', '2020-05-07', '2020-05-08', '2020-05-11',\n",
              "       '2020-05-12', '2020-05-13', '2020-05-14', '2020-05-15',\n",
              "       '2020-05-18', '2020-05-19', '2020-05-20', '2020-05-22',\n",
              "       '2020-05-26', '2020-05-27', '2020-05-28', '2020-06-03',\n",
              "       '2020-06-04', '2020-06-05', '2020-06-08', '2020-06-09',\n",
              "       '2020-06-10', '2020-06-15', '2020-06-16', '2020-06-17',\n",
              "       '2020-06-18', '2020-06-19', '2020-06-22', '2020-06-23',\n",
              "       '2020-06-25', '2020-06-26', '2020-06-29', '2020-06-30',\n",
              "       '2020-07-01', '2020-07-02', '2020-07-03', '2020-07-06',\n",
              "       '2020-07-07', '2020-07-09', '2020-07-10', '2020-07-14',\n",
              "       '2020-07-15', '2020-07-16', '2020-07-21', '2020-07-22',\n",
              "       '2020-07-23', '2020-07-24', '2020-07-28', '2020-07-29',\n",
              "       '2020-07-30', '2020-07-31', '2020-08-03', '2020-08-05',\n",
              "       '2020-08-07', '2020-08-10', '2020-08-11', '2020-08-12',\n",
              "       '2020-08-13', '2020-08-14', '2020-08-17', '2020-08-18',\n",
              "       '2020-08-19', '2020-08-20', '2020-08-21', '2020-08-24',\n",
              "       '2020-08-25', '2020-08-26', '2020-08-27', '2020-08-31',\n",
              "       '2020-09-01', '2020-09-02', '2020-09-03', '2020-09-04',\n",
              "       '2020-09-08', '2020-09-09', '2020-09-10', '2020-09-14',\n",
              "       '2020-09-15', '2020-09-16', '2020-09-17', '2020-09-18',\n",
              "       '2020-09-21', '2020-09-22', '2020-09-23', '2020-09-24',\n",
              "       '2020-09-25', '2020-09-28', '2020-09-29', '2020-09-30',\n",
              "       '2020-10-01', '2020-10-02', '2020-10-05', '2020-10-06',\n",
              "       '2020-10-08', '2020-10-09', '2020-10-13', '2020-10-14',\n",
              "       '2020-10-15', '2020-10-16', '2020-10-19', '2020-10-20',\n",
              "       '2020-10-21', '2020-10-22', '2020-10-23', '2020-10-26',\n",
              "       '2020-10-27', '2020-10-29', '2020-10-30', '2020-11-03',\n",
              "       '2020-11-06', '2020-11-09', '2020-11-10', '2020-11-11',\n",
              "       '2020-11-12', '2020-11-13', '2020-11-16', '2020-11-17',\n",
              "       '2020-11-18', '2020-11-19', '2020-11-20', '2020-11-23',\n",
              "       '2020-11-25', '2020-11-26', '2020-12-01', '2020-12-02',\n",
              "       '2020-12-04', '2020-12-07', '2020-12-08', '2020-12-09',\n",
              "       '2020-12-10', '2020-12-11', '2020-12-14', '2020-12-15',\n",
              "       '2020-12-16', '2020-12-18', '2020-12-21', '2020-12-22',\n",
              "       '2020-12-28', '2020-12-29', '2020-12-30', '2021-01-04',\n",
              "       '2021-01-05', '2021-01-07', '2021-01-11', '2021-01-12',\n",
              "       '2021-01-13', '2021-01-18', '2021-01-19', '2021-01-20',\n",
              "       '2021-01-21', '2021-01-22', '2021-01-26', '2021-01-27',\n",
              "       '2021-01-28', '2021-01-29', '2021-02-01', '2021-02-02',\n",
              "       '2021-02-04', '2021-02-05', '2021-02-08', '2021-02-09',\n",
              "       '2021-02-11', '2021-02-12', '2021-02-17', '2021-02-18',\n",
              "       '2021-02-19', '2021-02-22', '2021-02-23', '2021-02-24',\n",
              "       '2021-02-25', '2021-02-26', '2021-03-01', '2021-03-02',\n",
              "       '2021-03-03', '2021-03-05', '2021-03-08', '2021-03-09',\n",
              "       '2021-03-10', '2021-03-11', '2021-03-12', '2021-03-15',\n",
              "       '2021-03-16', '2021-03-17', '2021-03-18', '2021-03-19',\n",
              "       '2021-03-22', '2021-03-23', '2021-03-24', '2021-03-25',\n",
              "       '2021-03-26', '2021-03-30', '2021-03-31', '2021-04-01',\n",
              "       '2021-04-05', '2021-04-06', '2021-04-07', '2021-04-08',\n",
              "       '2021-04-09', '2021-04-12', '2021-04-13', '2021-04-14',\n",
              "       '2021-04-15', '2021-04-16', '2021-04-19', '2021-04-22',\n",
              "       '2021-04-23', '2021-04-26', '2021-04-27', '2021-04-28',\n",
              "       '2021-04-29', '2021-04-30', '2021-05-03', '2021-05-04',\n",
              "       '2021-05-05', '2021-05-06', '2021-05-10', '2021-05-11',\n",
              "       '2021-05-12', '2021-05-13', '2021-05-14', '2021-05-17',\n",
              "       '2021-05-18', '2021-05-19', '2021-05-20', '2021-05-21',\n",
              "       '2021-05-25', '2021-05-26', '2021-05-27', '2021-06-02',\n",
              "       '2021-06-04', '2021-06-07', '2021-06-09', '2021-06-10',\n",
              "       '2021-06-14', '2021-06-15', '2021-06-16', '2021-06-17',\n",
              "       '2021-06-21', '2021-06-22', '2021-06-23', '2021-06-24',\n",
              "       '2021-06-25', '2021-06-28', '2021-06-29', '2021-06-30',\n",
              "       '2021-07-01', '2021-07-05', '2021-07-07', '2021-07-08',\n",
              "       '2021-07-12', '2021-07-13', '2021-07-14', '2021-07-15',\n",
              "       '2021-07-16', '2021-07-22', '2021-07-23', '2021-07-26',\n",
              "       '2021-07-29', '2021-08-02', '2021-08-03', '2021-08-04',\n",
              "       '2021-08-05', '2021-08-06', '2021-08-09', '2021-08-10',\n",
              "       '2021-08-11', '2021-08-12', '2021-08-13', '2021-08-16',\n",
              "       '2021-08-17', '2021-08-18', '2021-08-19', '2021-08-20',\n",
              "       '2021-08-23', '2021-08-24', '2021-08-25', '2021-08-26',\n",
              "       '2021-08-27', '2021-08-30', '2021-09-03', '2021-09-08',\n",
              "       '2021-09-09', '2021-09-10', '2021-09-13', '2021-09-14',\n",
              "       '2021-09-16', '2021-09-17', '2021-09-22', '2021-09-23',\n",
              "       '2021-09-24', '2021-09-27', '2021-09-28', '2021-09-29',\n",
              "       '2021-09-30', '2021-10-01', '2021-10-04', '2021-10-06',\n",
              "       '2021-10-08', '2021-10-11', '2021-10-13', '2021-10-14',\n",
              "       '2021-10-18', '2021-10-20', '2021-10-22', '2021-10-26',\n",
              "       '2021-10-27', '2021-11-01', '2021-11-03', '2021-11-04',\n",
              "       '2021-11-05', '2021-11-08', '2021-11-09', '2021-11-10',\n",
              "       '2021-11-11', '2021-11-16', '2021-11-17', '2021-11-18',\n",
              "       '2021-11-22', '2021-11-23', '2021-11-24', '2021-11-29',\n",
              "       '2021-12-01', '2021-12-02', '2021-12-03', '2021-12-06',\n",
              "       '2021-12-07', '2021-12-08', '2021-12-09', '2021-12-10',\n",
              "       '2021-12-13', '2021-12-14', '2021-12-15', '2021-12-16',\n",
              "       '2021-12-17', '2021-12-21', '2021-12-22', '2021-12-23',\n",
              "       '2021-12-27', '2021-12-28', '2021-12-29', '2021-12-30',\n",
              "       '2022-01-03', '2022-01-04', '2022-01-06', '2022-01-07',\n",
              "       '2022-01-10', '2022-01-13', '2022-01-14', '2022-01-17',\n",
              "       '2022-01-18', '2022-01-20', '2022-01-21', '2022-01-25',\n",
              "       '2022-01-27', '2022-01-28', '2022-01-31', '2022-02-02',\n",
              "       '2022-02-04', '2022-02-07', '2022-02-08', '2022-02-09',\n",
              "       '2022-02-10', '2022-02-11', '2022-02-14', '2022-02-15',\n",
              "       '2022-02-16', '2022-02-17', '2022-02-18', '2022-02-21',\n",
              "       '2022-02-22', '2022-02-23', '2022-02-24', '2022-02-25',\n",
              "       '2022-03-03', '2022-03-07', '2022-03-08', '2022-03-09',\n",
              "       '2022-03-10', '2022-03-11', '2022-03-15', '2022-03-16',\n",
              "       '2022-03-18', '2022-03-24', '2022-03-25', '2022-03-28',\n",
              "       '2022-03-29', '2022-03-30', '2022-03-31', '2022-04-01',\n",
              "       '2022-04-04', '2022-04-05', '2022-04-06', '2022-04-07',\n",
              "       '2022-04-08', '2022-04-11', '2022-04-12', '2022-04-13',\n",
              "       '2022-04-14', '2022-04-18', '2022-04-20', '2022-04-22',\n",
              "       '2022-04-25', '2022-04-26', '2022-04-27', '2022-04-28',\n",
              "       '2022-04-29', '2020-07-17', '2021-01-15', '2021-06-08',\n",
              "       '2021-07-30', '2021-09-01', '2022-02-03', '2020-05-04',\n",
              "       '2020-05-06', '2020-05-21', '2020-05-25', '2020-05-29',\n",
              "       '2020-06-02', '2020-06-12', '2020-06-24', '2020-07-08',\n",
              "       '2020-07-13', '2020-07-20', '2020-08-04', '2020-08-06',\n",
              "       '2020-08-28', '2020-09-11', '2020-10-07', '2020-10-28',\n",
              "       '2020-11-04', '2020-11-05', '2020-11-27', '2020-11-30',\n",
              "       '2020-12-03', '2020-12-17', '2020-12-23', '2021-01-06',\n",
              "       '2021-01-08', '2021-02-03', '2021-02-10', '2021-03-04',\n",
              "       '2021-03-29', '2021-04-20', '2021-05-07', '2021-05-24',\n",
              "       '2021-05-28', '2021-05-31', '2021-06-01', '2021-06-11',\n",
              "       '2021-06-18', '2021-07-02', '2021-07-06', '2021-07-19',\n",
              "       '2021-07-21', '2021-07-27', '2021-07-28', '2021-08-31',\n",
              "       '2021-09-06', '2021-09-15', '2021-09-20', '2021-09-21',\n",
              "       '2021-10-05', '2021-10-07', '2021-10-15', '2021-10-19',\n",
              "       '2021-10-21', '2021-10-28', '2021-10-29', '2021-11-12',\n",
              "       '2021-11-19', '2021-11-25', '2021-11-26', '2021-12-20',\n",
              "       '2022-01-05', '2022-01-12', '2022-01-19', '2022-01-24',\n",
              "       '2022-01-26', '2022-02-01', '2022-03-04', '2022-03-14',\n",
              "       '2022-03-17', '2022-03-21', '2022-03-22', '2022-03-23',\n",
              "       '2022-04-19', '2020-06-01', '2020-07-27', '2020-11-24',\n",
              "       '2021-01-14', '2021-07-20', '2021-09-02', '2021-10-25',\n",
              "       '2021-11-30', '2022-01-11', '2022-03-02'], dtype=object)"
            ]
          },
          "metadata": {},
          "execution_count": 25
        }
      ]
    },
    {
      "cell_type": "code",
      "source": [
        "#Verificando e contando a coluna\n",
        "df_trade['2772926'].value_counts()"
      ],
      "metadata": {
        "colab": {
          "base_uri": "https://localhost:8080/"
        },
        "id": "w_ltJfGyB2y3",
        "outputId": "804261d8-ea61-4de3-d6ef-8307ced11f45"
      },
      "execution_count": null,
      "outputs": [
        {
          "output_type": "execute_result",
          "data": {
            "text/plain": [
              "1     245\n",
              "2      70\n",
              "3      21\n",
              "4      17\n",
              "5      12\n",
              "29      9\n",
              "25      8\n",
              "27      8\n",
              "24      8\n",
              "30      8\n",
              "8       7\n",
              "6       7\n",
              "23      6\n",
              "11      5\n",
              "20      5\n",
              "7       5\n",
              "10      5\n",
              "31      4\n",
              "14      4\n",
              "19      4\n",
              "21      3\n",
              "26      3\n",
              "12      3\n",
              "36      3\n",
              "17      3\n",
              "18      3\n",
              "13      2\n",
              "16      2\n",
              "9       2\n",
              "34      2\n",
              "28      2\n",
              "37      2\n",
              "15      2\n",
              "41      1\n",
              "38      1\n",
              "33      1\n",
              "32      1\n",
              "40      1\n",
              "Name: 2772926, dtype: int64"
            ]
          },
          "metadata": {},
          "execution_count": 26
        }
      ]
    },
    {
      "cell_type": "code",
      "source": [
        "#Verificando e contando a coluna\n",
        "df_resultado['2772926'].value_counts()"
      ],
      "metadata": {
        "colab": {
          "base_uri": "https://localhost:8080/"
        },
        "id": "0Qur89X6MPSb",
        "outputId": "dca1612f-95de-4f8b-bc2f-dc69e52205e7"
      },
      "execution_count": null,
      "outputs": [
        {
          "output_type": "execute_result",
          "data": {
            "text/plain": [
              "-18.0     55\n",
              "-19.0     34\n",
              "-22.0     31\n",
              "-5.0      27\n",
              "-1.0      19\n",
              "          ..\n",
              " 226.0     1\n",
              " 44.5      1\n",
              " 161.5     1\n",
              " 78.0      1\n",
              " 97.5      1\n",
              "Name: 2772926, Length: 107, dtype: int64"
            ]
          },
          "metadata": {},
          "execution_count": 27
        }
      ]
    },
    {
      "cell_type": "code",
      "source": [
        "#Backup\n",
        "df2_resultado = df_resultado.copy()\n",
        "df2_trade = df_trade.copy()"
      ],
      "metadata": {
        "id": "Pzr_8QGoAykt"
      },
      "execution_count": null,
      "outputs": []
    },
    {
      "cell_type": "markdown",
      "source": [
        "Transformação dos dados"
      ],
      "metadata": {
        "id": "MO53FS9ee7MI"
      }
    },
    {
      "cell_type": "code",
      "source": [
        "#Renomeando uma coluna dos dataframes \n",
        "\n",
        "#Renomeando a coluna 'Date' para 'Data' do dataframe resultado\n",
        "df2_resultado.rename(columns={'date' : 'Data'}, inplace=True)\n",
        "\n",
        "\n",
        "#Renomeando a coluna 'Date' para 'Data' do dataframe trade\n",
        "df2_trade.rename(columns={'date' : 'Data'}, inplace=True)"
      ],
      "metadata": {
        "id": "7GdupyIIg3hU"
      },
      "execution_count": null,
      "outputs": []
    },
    {
      "cell_type": "code",
      "source": [
        "#Sustituindo da coluna Data de robôs resultado: O formato da data de dia, mês e ano para ano, mês e dia e passando os dados para datetime\n",
        "df2_resultado['Data'] = pd.to_datetime(df2_resultado['Data'], errors='coerce')\n",
        "df2_resultado['Data'] = df2_resultado['Data'].dt.strftime('%Y-%m-%d').astype('datetime64[ns]')"
      ],
      "metadata": {
        "id": "sgpZdhrPe_Ju"
      },
      "execution_count": null,
      "outputs": []
    },
    {
      "cell_type": "code",
      "source": [
        "#Sustituindo da coluna Data de robôs trade: O formato da data de dia, mês e ano para ano, mês e dia e passando os dados para datetime\n",
        "df2_trade['Data'] = pd.to_datetime(df2_trade['Data'], errors='coerce')\n",
        "df2_trade['Data'] = df2_trade['Data'].dt.strftime('%Y-%m-%d').astype('datetime64[ns]')"
      ],
      "metadata": {
        "id": "uM_FMYNRe6Pe"
      },
      "execution_count": null,
      "outputs": []
    },
    {
      "cell_type": "code",
      "source": [
        "#Informações gerais sobre os tipo de dados e quantidades de não nulos\n",
        "df2_trade.info()\n",
        "df2_resultado.info()"
      ],
      "metadata": {
        "id": "LW6HFspLDjVF",
        "colab": {
          "base_uri": "https://localhost:8080/"
        },
        "outputId": "5f08439f-02b5-4f95-e01f-a4a8619a487b"
      },
      "execution_count": null,
      "outputs": [
        {
          "output_type": "stream",
          "name": "stdout",
          "text": [
            "<class 'pandas.core.frame.DataFrame'>\n",
            "RangeIndex: 495 entries, 0 to 494\n",
            "Data columns (total 67 columns):\n",
            " #   Column      Non-Null Count  Dtype         \n",
            "---  ------      --------------  -----         \n",
            " 0   Unnamed: 0  495 non-null    int64         \n",
            " 1   Data        495 non-null    datetime64[ns]\n",
            " 2   2772803     495 non-null    float64       \n",
            " 3   2772804     495 non-null    float64       \n",
            " 4   2772805     495 non-null    float64       \n",
            " 5   2772806     495 non-null    float64       \n",
            " 6   2772807     495 non-null    float64       \n",
            " 7   2772808     495 non-null    float64       \n",
            " 8   2772809     495 non-null    float64       \n",
            " 9   2772810     495 non-null    float64       \n",
            " 10  2772811     495 non-null    float64       \n",
            " 11  2772812     495 non-null    int64         \n",
            " 12  2772813     495 non-null    int64         \n",
            " 13  2772814     495 non-null    int64         \n",
            " 14  2772815     495 non-null    float64       \n",
            " 15  2772816     495 non-null    float64       \n",
            " 16  2772817     495 non-null    float64       \n",
            " 17  2772818     495 non-null    float64       \n",
            " 18  2772819     495 non-null    int64         \n",
            " 19  2772820     495 non-null    int64         \n",
            " 20  2772821     495 non-null    int64         \n",
            " 21  2772822     495 non-null    int64         \n",
            " 22  2772859     495 non-null    int64         \n",
            " 23  2772860     495 non-null    int64         \n",
            " 24  2772861     495 non-null    int64         \n",
            " 25  2772862     495 non-null    float64       \n",
            " 26  2772863     495 non-null    float64       \n",
            " 27  2772864     495 non-null    float64       \n",
            " 28  2772865     495 non-null    float64       \n",
            " 29  2772866     495 non-null    float64       \n",
            " 30  2772867     495 non-null    float64       \n",
            " 31  2772868     495 non-null    float64       \n",
            " 32  2772869     495 non-null    float64       \n",
            " 33  2772870     495 non-null    float64       \n",
            " 34  2772871     495 non-null    float64       \n",
            " 35  2772872     495 non-null    float64       \n",
            " 36  2772873     495 non-null    float64       \n",
            " 37  2772874     495 non-null    float64       \n",
            " 38  2772875     495 non-null    float64       \n",
            " 39  2772876     495 non-null    float64       \n",
            " 40  2772877     495 non-null    float64       \n",
            " 41  2772878     495 non-null    float64       \n",
            " 42  2772879     495 non-null    float64       \n",
            " 43  2772914     495 non-null    float64       \n",
            " 44  2772915     495 non-null    int64         \n",
            " 45  2772916     495 non-null    int64         \n",
            " 46  2772917     495 non-null    int64         \n",
            " 47  2772918     495 non-null    int64         \n",
            " 48  2772919     495 non-null    int64         \n",
            " 49  2772920     495 non-null    int64         \n",
            " 50  2772921     495 non-null    int64         \n",
            " 51  2772922     495 non-null    int64         \n",
            " 52  2772923     495 non-null    int64         \n",
            " 53  2772924     495 non-null    int64         \n",
            " 54  2772925     495 non-null    int64         \n",
            " 55  2772926     495 non-null    int64         \n",
            " 56  2772927     495 non-null    float64       \n",
            " 57  2772928     495 non-null    float64       \n",
            " 58  2772929     495 non-null    float64       \n",
            " 59  2772930     495 non-null    float64       \n",
            " 60  2772931     495 non-null    float64       \n",
            " 61  2772932     495 non-null    float64       \n",
            " 62  2772933     495 non-null    float64       \n",
            " 63  2772934     495 non-null    int64         \n",
            " 64  2772980     495 non-null    int64         \n",
            " 65  2772981     495 non-null    float64       \n",
            " 66  2772982     495 non-null    float64       \n",
            "dtypes: datetime64[ns](1), float64(41), int64(25)\n",
            "memory usage: 259.2 KB\n",
            "<class 'pandas.core.frame.DataFrame'>\n",
            "RangeIndex: 495 entries, 0 to 494\n",
            "Data columns (total 67 columns):\n",
            " #   Column      Non-Null Count  Dtype         \n",
            "---  ------      --------------  -----         \n",
            " 0   Unnamed: 0  495 non-null    int64         \n",
            " 1   Data        495 non-null    datetime64[ns]\n",
            " 2   2772803     495 non-null    float64       \n",
            " 3   2772804     495 non-null    float64       \n",
            " 4   2772805     495 non-null    float64       \n",
            " 5   2772806     495 non-null    float64       \n",
            " 6   2772807     495 non-null    float64       \n",
            " 7   2772808     495 non-null    float64       \n",
            " 8   2772809     495 non-null    float64       \n",
            " 9   2772810     495 non-null    float64       \n",
            " 10  2772811     495 non-null    float64       \n",
            " 11  2772812     495 non-null    float64       \n",
            " 12  2772813     495 non-null    float64       \n",
            " 13  2772814     495 non-null    float64       \n",
            " 14  2772815     495 non-null    float64       \n",
            " 15  2772816     495 non-null    float64       \n",
            " 16  2772817     495 non-null    float64       \n",
            " 17  2772818     495 non-null    float64       \n",
            " 18  2772819     495 non-null    float64       \n",
            " 19  2772820     495 non-null    float64       \n",
            " 20  2772821     495 non-null    float64       \n",
            " 21  2772822     495 non-null    float64       \n",
            " 22  2772859     495 non-null    float64       \n",
            " 23  2772860     495 non-null    float64       \n",
            " 24  2772861     495 non-null    float64       \n",
            " 25  2772862     495 non-null    float64       \n",
            " 26  2772863     495 non-null    float64       \n",
            " 27  2772864     495 non-null    float64       \n",
            " 28  2772865     495 non-null    float64       \n",
            " 29  2772866     495 non-null    float64       \n",
            " 30  2772867     495 non-null    float64       \n",
            " 31  2772868     495 non-null    float64       \n",
            " 32  2772869     495 non-null    float64       \n",
            " 33  2772870     495 non-null    float64       \n",
            " 34  2772871     495 non-null    float64       \n",
            " 35  2772872     495 non-null    float64       \n",
            " 36  2772873     495 non-null    float64       \n",
            " 37  2772874     495 non-null    float64       \n",
            " 38  2772875     495 non-null    float64       \n",
            " 39  2772876     495 non-null    float64       \n",
            " 40  2772877     495 non-null    float64       \n",
            " 41  2772878     495 non-null    float64       \n",
            " 42  2772879     495 non-null    float64       \n",
            " 43  2772914     495 non-null    float64       \n",
            " 44  2772915     495 non-null    float64       \n",
            " 45  2772916     495 non-null    float64       \n",
            " 46  2772917     495 non-null    float64       \n",
            " 47  2772918     495 non-null    float64       \n",
            " 48  2772919     495 non-null    float64       \n",
            " 49  2772920     495 non-null    float64       \n",
            " 50  2772921     495 non-null    float64       \n",
            " 51  2772922     495 non-null    float64       \n",
            " 52  2772923     495 non-null    float64       \n",
            " 53  2772924     495 non-null    float64       \n",
            " 54  2772925     495 non-null    float64       \n",
            " 55  2772926     495 non-null    float64       \n",
            " 56  2772927     495 non-null    float64       \n",
            " 57  2772928     495 non-null    float64       \n",
            " 58  2772929     495 non-null    float64       \n",
            " 59  2772930     495 non-null    float64       \n",
            " 60  2772931     495 non-null    float64       \n",
            " 61  2772932     495 non-null    float64       \n",
            " 62  2772933     495 non-null    float64       \n",
            " 63  2772934     495 non-null    float64       \n",
            " 64  2772980     495 non-null    float64       \n",
            " 65  2772981     495 non-null    float64       \n",
            " 66  2772982     495 non-null    float64       \n",
            "dtypes: datetime64[ns](1), float64(65), int64(1)\n",
            "memory usage: 259.2 KB\n"
          ]
        }
      ]
    },
    {
      "cell_type": "markdown",
      "source": [
        "Analisando as informações estatísticas"
      ],
      "metadata": {
        "id": "ZgCB7cfY_yEG"
      }
    },
    {
      "cell_type": "code",
      "source": [
        "#Verificando as variáveis de todo o dataframe (Sumário estatístico)\n",
        "df2_resultado.describe()"
      ],
      "metadata": {
        "colab": {
          "base_uri": "https://localhost:8080/",
          "height": 411
        },
        "id": "GtUnWq3q_39L",
        "outputId": "ab3a05e5-ca16-47db-e92f-a6e205e4c95f"
      },
      "execution_count": null,
      "outputs": [
        {
          "output_type": "execute_result",
          "data": {
            "text/plain": [
              "       Unnamed: 0     2772803     2772804     2772805     2772806     2772807  \\\n",
              "count  495.000000  495.000000  495.000000  495.000000  495.000000  495.000000   \n",
              "mean   247.000000   14.543434   14.543434   14.543434   10.177778   13.363636   \n",
              "std    143.038456  126.386343  126.386343  126.386343  137.475035  134.244373   \n",
              "min      0.000000 -363.000000 -363.000000 -363.000000 -363.000000 -205.000000   \n",
              "25%    123.500000    0.000000    0.000000    0.000000  -25.500000  -99.000000   \n",
              "50%    247.000000   55.000000   55.000000   55.000000    0.000000  -38.000000   \n",
              "75%    370.500000   87.000000   87.000000   87.000000   37.000000  197.500000   \n",
              "max    494.000000  326.000000  326.000000  326.000000  539.000000  203.000000   \n",
              "\n",
              "          2772808     2772809  2772810  2772811  ...     2772928     2772929  \\\n",
              "count  495.000000  495.000000    495.0    495.0  ...  495.000000  495.000000   \n",
              "mean    14.153535    0.282828      0.0      0.0  ...    8.546465    8.546465   \n",
              "std    150.747049   67.228151      0.0      0.0  ...   26.260835   26.260835   \n",
              "min   -205.000000 -204.000000      0.0      0.0  ...  -84.000000  -84.000000   \n",
              "25%    -99.000000  -61.000000      0.0      0.0  ...    0.000000    0.000000   \n",
              "50%    -48.000000   38.000000      0.0      0.0  ...    0.000000    0.000000   \n",
              "75%    115.000000   42.000000      0.0      0.0  ...   17.500000   17.500000   \n",
              "max    495.000000   86.000000      0.0      0.0  ...   90.000000   90.000000   \n",
              "\n",
              "          2772930     2772931     2772932     2772933     2772934     2772980  \\\n",
              "count  495.000000  495.000000  495.000000  495.000000  495.000000  495.000000   \n",
              "mean     4.624242    9.119192    9.131313    9.131313    2.929293    2.929293   \n",
              "std     21.558418   31.036023   31.083096   31.083096   70.665812   70.665812   \n",
              "min    -47.000000 -114.000000 -126.000000 -126.000000  -87.000000  -87.000000   \n",
              "25%      0.000000    0.000000    0.000000    0.000000  -77.000000  -77.000000   \n",
              "50%      0.000000    0.000000    0.000000    0.000000    2.000000    2.000000   \n",
              "75%      0.000000   38.000000   40.000000   40.000000   80.000000   80.000000   \n",
              "max     42.000000   80.000000   81.000000   81.000000  169.000000  169.000000   \n",
              "\n",
              "          2772981     2772982  \n",
              "count  495.000000  495.000000  \n",
              "mean    18.426460    8.331313  \n",
              "std     62.736629   29.176611  \n",
              "min   -202.777778 -122.000000  \n",
              "25%    -15.875000    0.000000  \n",
              "50%     29.000000    0.000000  \n",
              "75%     60.000000   38.000000  \n",
              "max    210.692308   85.000000  \n",
              "\n",
              "[8 rows x 66 columns]"
            ],
            "text/html": [
              "\n",
              "  <div id=\"df-27ed1a22-6812-4878-8f60-24365230f202\">\n",
              "    <div class=\"colab-df-container\">\n",
              "      <div>\n",
              "<style scoped>\n",
              "    .dataframe tbody tr th:only-of-type {\n",
              "        vertical-align: middle;\n",
              "    }\n",
              "\n",
              "    .dataframe tbody tr th {\n",
              "        vertical-align: top;\n",
              "    }\n",
              "\n",
              "    .dataframe thead th {\n",
              "        text-align: right;\n",
              "    }\n",
              "</style>\n",
              "<table border=\"1\" class=\"dataframe\">\n",
              "  <thead>\n",
              "    <tr style=\"text-align: right;\">\n",
              "      <th></th>\n",
              "      <th>Unnamed: 0</th>\n",
              "      <th>2772803</th>\n",
              "      <th>2772804</th>\n",
              "      <th>2772805</th>\n",
              "      <th>2772806</th>\n",
              "      <th>2772807</th>\n",
              "      <th>2772808</th>\n",
              "      <th>2772809</th>\n",
              "      <th>2772810</th>\n",
              "      <th>2772811</th>\n",
              "      <th>...</th>\n",
              "      <th>2772928</th>\n",
              "      <th>2772929</th>\n",
              "      <th>2772930</th>\n",
              "      <th>2772931</th>\n",
              "      <th>2772932</th>\n",
              "      <th>2772933</th>\n",
              "      <th>2772934</th>\n",
              "      <th>2772980</th>\n",
              "      <th>2772981</th>\n",
              "      <th>2772982</th>\n",
              "    </tr>\n",
              "  </thead>\n",
              "  <tbody>\n",
              "    <tr>\n",
              "      <th>count</th>\n",
              "      <td>495.000000</td>\n",
              "      <td>495.000000</td>\n",
              "      <td>495.000000</td>\n",
              "      <td>495.000000</td>\n",
              "      <td>495.000000</td>\n",
              "      <td>495.000000</td>\n",
              "      <td>495.000000</td>\n",
              "      <td>495.000000</td>\n",
              "      <td>495.0</td>\n",
              "      <td>495.0</td>\n",
              "      <td>...</td>\n",
              "      <td>495.000000</td>\n",
              "      <td>495.000000</td>\n",
              "      <td>495.000000</td>\n",
              "      <td>495.000000</td>\n",
              "      <td>495.000000</td>\n",
              "      <td>495.000000</td>\n",
              "      <td>495.000000</td>\n",
              "      <td>495.000000</td>\n",
              "      <td>495.000000</td>\n",
              "      <td>495.000000</td>\n",
              "    </tr>\n",
              "    <tr>\n",
              "      <th>mean</th>\n",
              "      <td>247.000000</td>\n",
              "      <td>14.543434</td>\n",
              "      <td>14.543434</td>\n",
              "      <td>14.543434</td>\n",
              "      <td>10.177778</td>\n",
              "      <td>13.363636</td>\n",
              "      <td>14.153535</td>\n",
              "      <td>0.282828</td>\n",
              "      <td>0.0</td>\n",
              "      <td>0.0</td>\n",
              "      <td>...</td>\n",
              "      <td>8.546465</td>\n",
              "      <td>8.546465</td>\n",
              "      <td>4.624242</td>\n",
              "      <td>9.119192</td>\n",
              "      <td>9.131313</td>\n",
              "      <td>9.131313</td>\n",
              "      <td>2.929293</td>\n",
              "      <td>2.929293</td>\n",
              "      <td>18.426460</td>\n",
              "      <td>8.331313</td>\n",
              "    </tr>\n",
              "    <tr>\n",
              "      <th>std</th>\n",
              "      <td>143.038456</td>\n",
              "      <td>126.386343</td>\n",
              "      <td>126.386343</td>\n",
              "      <td>126.386343</td>\n",
              "      <td>137.475035</td>\n",
              "      <td>134.244373</td>\n",
              "      <td>150.747049</td>\n",
              "      <td>67.228151</td>\n",
              "      <td>0.0</td>\n",
              "      <td>0.0</td>\n",
              "      <td>...</td>\n",
              "      <td>26.260835</td>\n",
              "      <td>26.260835</td>\n",
              "      <td>21.558418</td>\n",
              "      <td>31.036023</td>\n",
              "      <td>31.083096</td>\n",
              "      <td>31.083096</td>\n",
              "      <td>70.665812</td>\n",
              "      <td>70.665812</td>\n",
              "      <td>62.736629</td>\n",
              "      <td>29.176611</td>\n",
              "    </tr>\n",
              "    <tr>\n",
              "      <th>min</th>\n",
              "      <td>0.000000</td>\n",
              "      <td>-363.000000</td>\n",
              "      <td>-363.000000</td>\n",
              "      <td>-363.000000</td>\n",
              "      <td>-363.000000</td>\n",
              "      <td>-205.000000</td>\n",
              "      <td>-205.000000</td>\n",
              "      <td>-204.000000</td>\n",
              "      <td>0.0</td>\n",
              "      <td>0.0</td>\n",
              "      <td>...</td>\n",
              "      <td>-84.000000</td>\n",
              "      <td>-84.000000</td>\n",
              "      <td>-47.000000</td>\n",
              "      <td>-114.000000</td>\n",
              "      <td>-126.000000</td>\n",
              "      <td>-126.000000</td>\n",
              "      <td>-87.000000</td>\n",
              "      <td>-87.000000</td>\n",
              "      <td>-202.777778</td>\n",
              "      <td>-122.000000</td>\n",
              "    </tr>\n",
              "    <tr>\n",
              "      <th>25%</th>\n",
              "      <td>123.500000</td>\n",
              "      <td>0.000000</td>\n",
              "      <td>0.000000</td>\n",
              "      <td>0.000000</td>\n",
              "      <td>-25.500000</td>\n",
              "      <td>-99.000000</td>\n",
              "      <td>-99.000000</td>\n",
              "      <td>-61.000000</td>\n",
              "      <td>0.0</td>\n",
              "      <td>0.0</td>\n",
              "      <td>...</td>\n",
              "      <td>0.000000</td>\n",
              "      <td>0.000000</td>\n",
              "      <td>0.000000</td>\n",
              "      <td>0.000000</td>\n",
              "      <td>0.000000</td>\n",
              "      <td>0.000000</td>\n",
              "      <td>-77.000000</td>\n",
              "      <td>-77.000000</td>\n",
              "      <td>-15.875000</td>\n",
              "      <td>0.000000</td>\n",
              "    </tr>\n",
              "    <tr>\n",
              "      <th>50%</th>\n",
              "      <td>247.000000</td>\n",
              "      <td>55.000000</td>\n",
              "      <td>55.000000</td>\n",
              "      <td>55.000000</td>\n",
              "      <td>0.000000</td>\n",
              "      <td>-38.000000</td>\n",
              "      <td>-48.000000</td>\n",
              "      <td>38.000000</td>\n",
              "      <td>0.0</td>\n",
              "      <td>0.0</td>\n",
              "      <td>...</td>\n",
              "      <td>0.000000</td>\n",
              "      <td>0.000000</td>\n",
              "      <td>0.000000</td>\n",
              "      <td>0.000000</td>\n",
              "      <td>0.000000</td>\n",
              "      <td>0.000000</td>\n",
              "      <td>2.000000</td>\n",
              "      <td>2.000000</td>\n",
              "      <td>29.000000</td>\n",
              "      <td>0.000000</td>\n",
              "    </tr>\n",
              "    <tr>\n",
              "      <th>75%</th>\n",
              "      <td>370.500000</td>\n",
              "      <td>87.000000</td>\n",
              "      <td>87.000000</td>\n",
              "      <td>87.000000</td>\n",
              "      <td>37.000000</td>\n",
              "      <td>197.500000</td>\n",
              "      <td>115.000000</td>\n",
              "      <td>42.000000</td>\n",
              "      <td>0.0</td>\n",
              "      <td>0.0</td>\n",
              "      <td>...</td>\n",
              "      <td>17.500000</td>\n",
              "      <td>17.500000</td>\n",
              "      <td>0.000000</td>\n",
              "      <td>38.000000</td>\n",
              "      <td>40.000000</td>\n",
              "      <td>40.000000</td>\n",
              "      <td>80.000000</td>\n",
              "      <td>80.000000</td>\n",
              "      <td>60.000000</td>\n",
              "      <td>38.000000</td>\n",
              "    </tr>\n",
              "    <tr>\n",
              "      <th>max</th>\n",
              "      <td>494.000000</td>\n",
              "      <td>326.000000</td>\n",
              "      <td>326.000000</td>\n",
              "      <td>326.000000</td>\n",
              "      <td>539.000000</td>\n",
              "      <td>203.000000</td>\n",
              "      <td>495.000000</td>\n",
              "      <td>86.000000</td>\n",
              "      <td>0.0</td>\n",
              "      <td>0.0</td>\n",
              "      <td>...</td>\n",
              "      <td>90.000000</td>\n",
              "      <td>90.000000</td>\n",
              "      <td>42.000000</td>\n",
              "      <td>80.000000</td>\n",
              "      <td>81.000000</td>\n",
              "      <td>81.000000</td>\n",
              "      <td>169.000000</td>\n",
              "      <td>169.000000</td>\n",
              "      <td>210.692308</td>\n",
              "      <td>85.000000</td>\n",
              "    </tr>\n",
              "  </tbody>\n",
              "</table>\n",
              "<p>8 rows × 66 columns</p>\n",
              "</div>\n",
              "      <button class=\"colab-df-convert\" onclick=\"convertToInteractive('df-27ed1a22-6812-4878-8f60-24365230f202')\"\n",
              "              title=\"Convert this dataframe to an interactive table.\"\n",
              "              style=\"display:none;\">\n",
              "        \n",
              "  <svg xmlns=\"http://www.w3.org/2000/svg\" height=\"24px\"viewBox=\"0 0 24 24\"\n",
              "       width=\"24px\">\n",
              "    <path d=\"M0 0h24v24H0V0z\" fill=\"none\"/>\n",
              "    <path d=\"M18.56 5.44l.94 2.06.94-2.06 2.06-.94-2.06-.94-.94-2.06-.94 2.06-2.06.94zm-11 1L8.5 8.5l.94-2.06 2.06-.94-2.06-.94L8.5 2.5l-.94 2.06-2.06.94zm10 10l.94 2.06.94-2.06 2.06-.94-2.06-.94-.94-2.06-.94 2.06-2.06.94z\"/><path d=\"M17.41 7.96l-1.37-1.37c-.4-.4-.92-.59-1.43-.59-.52 0-1.04.2-1.43.59L10.3 9.45l-7.72 7.72c-.78.78-.78 2.05 0 2.83L4 21.41c.39.39.9.59 1.41.59.51 0 1.02-.2 1.41-.59l7.78-7.78 2.81-2.81c.8-.78.8-2.07 0-2.86zM5.41 20L4 18.59l7.72-7.72 1.47 1.35L5.41 20z\"/>\n",
              "  </svg>\n",
              "      </button>\n",
              "      \n",
              "  <style>\n",
              "    .colab-df-container {\n",
              "      display:flex;\n",
              "      flex-wrap:wrap;\n",
              "      gap: 12px;\n",
              "    }\n",
              "\n",
              "    .colab-df-convert {\n",
              "      background-color: #E8F0FE;\n",
              "      border: none;\n",
              "      border-radius: 50%;\n",
              "      cursor: pointer;\n",
              "      display: none;\n",
              "      fill: #1967D2;\n",
              "      height: 32px;\n",
              "      padding: 0 0 0 0;\n",
              "      width: 32px;\n",
              "    }\n",
              "\n",
              "    .colab-df-convert:hover {\n",
              "      background-color: #E2EBFA;\n",
              "      box-shadow: 0px 1px 2px rgba(60, 64, 67, 0.3), 0px 1px 3px 1px rgba(60, 64, 67, 0.15);\n",
              "      fill: #174EA6;\n",
              "    }\n",
              "\n",
              "    [theme=dark] .colab-df-convert {\n",
              "      background-color: #3B4455;\n",
              "      fill: #D2E3FC;\n",
              "    }\n",
              "\n",
              "    [theme=dark] .colab-df-convert:hover {\n",
              "      background-color: #434B5C;\n",
              "      box-shadow: 0px 1px 3px 1px rgba(0, 0, 0, 0.15);\n",
              "      filter: drop-shadow(0px 1px 2px rgba(0, 0, 0, 0.3));\n",
              "      fill: #FFFFFF;\n",
              "    }\n",
              "  </style>\n",
              "\n",
              "      <script>\n",
              "        const buttonEl =\n",
              "          document.querySelector('#df-27ed1a22-6812-4878-8f60-24365230f202 button.colab-df-convert');\n",
              "        buttonEl.style.display =\n",
              "          google.colab.kernel.accessAllowed ? 'block' : 'none';\n",
              "\n",
              "        async function convertToInteractive(key) {\n",
              "          const element = document.querySelector('#df-27ed1a22-6812-4878-8f60-24365230f202');\n",
              "          const dataTable =\n",
              "            await google.colab.kernel.invokeFunction('convertToInteractive',\n",
              "                                                     [key], {});\n",
              "          if (!dataTable) return;\n",
              "\n",
              "          const docLinkHtml = 'Like what you see? Visit the ' +\n",
              "            '<a target=\"_blank\" href=https://colab.research.google.com/notebooks/data_table.ipynb>data table notebook</a>'\n",
              "            + ' to learn more about interactive tables.';\n",
              "          element.innerHTML = '';\n",
              "          dataTable['output_type'] = 'display_data';\n",
              "          await google.colab.output.renderOutput(dataTable, element);\n",
              "          const docLink = document.createElement('div');\n",
              "          docLink.innerHTML = docLinkHtml;\n",
              "          element.appendChild(docLink);\n",
              "        }\n",
              "      </script>\n",
              "    </div>\n",
              "  </div>\n",
              "  "
            ]
          },
          "metadata": {},
          "execution_count": 35
        }
      ]
    },
    {
      "cell_type": "code",
      "source": [
        "#Verificando as variáveis de todo o dataframe (Sumário estatístico)\n",
        "df2_trade.describe()"
      ],
      "metadata": {
        "colab": {
          "base_uri": "https://localhost:8080/",
          "height": 411
        },
        "id": "spLKA0jYMGbO",
        "outputId": "787c8a87-0c4e-4577-a8be-f711d2af3e8c"
      },
      "execution_count": null,
      "outputs": [
        {
          "output_type": "execute_result",
          "data": {
            "text/plain": [
              "       Unnamed: 0     2772803     2772804     2772805     2772806     2772807  \\\n",
              "count  495.000000  495.000000  495.000000  495.000000  495.000000  495.000000   \n",
              "mean   247.000000    0.818182    0.818182    0.818182    0.569697    1.145455   \n",
              "std    143.038456    0.386085    0.386085    0.386085    0.495619    0.425710   \n",
              "min      0.000000    0.000000    0.000000    0.000000    0.000000    0.000000   \n",
              "25%    123.500000    1.000000    1.000000    1.000000    0.000000    1.000000   \n",
              "50%    247.000000    1.000000    1.000000    1.000000    1.000000    1.000000   \n",
              "75%    370.500000    1.000000    1.000000    1.000000    1.000000    1.000000   \n",
              "max    494.000000    1.000000    1.000000    1.000000    1.000000    2.000000   \n",
              "\n",
              "          2772808     2772809  2772810  2772811  ...     2772928     2772929  \\\n",
              "count  495.000000  495.000000    495.0    495.0  ...  495.000000  495.000000   \n",
              "mean     1.266667    1.266667      0.0      0.0  ...    0.424242    0.424242   \n",
              "std      0.502625    0.502625      0.0      0.0  ...    0.494727    0.494727   \n",
              "min      0.000000    0.000000      0.0      0.0  ...    0.000000    0.000000   \n",
              "25%      1.000000    1.000000      0.0      0.0  ...    0.000000    0.000000   \n",
              "50%      1.000000    1.000000      0.0      0.0  ...    0.000000    0.000000   \n",
              "75%      2.000000    2.000000      0.0      0.0  ...    1.000000    1.000000   \n",
              "max      2.000000    2.000000      0.0      0.0  ...    1.000000    1.000000   \n",
              "\n",
              "          2772930     2772931     2772932     2772933  2772934  2772980  \\\n",
              "count  495.000000  495.000000  495.000000  495.000000    495.0    495.0   \n",
              "mean     0.339394    0.569697    0.509091    0.509091      3.0      3.0   \n",
              "std      0.478234    0.549835    0.531801    0.531801      0.0      0.0   \n",
              "min      0.000000    0.000000    0.000000    0.000000      3.0      3.0   \n",
              "25%      0.000000    0.000000    0.000000    0.000000      3.0      3.0   \n",
              "50%      0.000000    1.000000    0.000000    0.000000      3.0      3.0   \n",
              "75%      1.000000    1.000000    1.000000    1.000000      3.0      3.0   \n",
              "max      2.000000    2.000000    2.000000    2.000000      3.0      3.0   \n",
              "\n",
              "          2772981     2772982  \n",
              "count  495.000000  495.000000  \n",
              "mean     3.355556    0.462626  \n",
              "std      2.218537    0.526732  \n",
              "min      0.000000    0.000000  \n",
              "25%      2.000000    0.000000  \n",
              "50%      3.000000    0.000000  \n",
              "75%      5.000000    1.000000  \n",
              "max     14.000000    2.000000  \n",
              "\n",
              "[8 rows x 66 columns]"
            ],
            "text/html": [
              "\n",
              "  <div id=\"df-e653b700-3aea-4b88-a2f6-1909597cdebd\">\n",
              "    <div class=\"colab-df-container\">\n",
              "      <div>\n",
              "<style scoped>\n",
              "    .dataframe tbody tr th:only-of-type {\n",
              "        vertical-align: middle;\n",
              "    }\n",
              "\n",
              "    .dataframe tbody tr th {\n",
              "        vertical-align: top;\n",
              "    }\n",
              "\n",
              "    .dataframe thead th {\n",
              "        text-align: right;\n",
              "    }\n",
              "</style>\n",
              "<table border=\"1\" class=\"dataframe\">\n",
              "  <thead>\n",
              "    <tr style=\"text-align: right;\">\n",
              "      <th></th>\n",
              "      <th>Unnamed: 0</th>\n",
              "      <th>2772803</th>\n",
              "      <th>2772804</th>\n",
              "      <th>2772805</th>\n",
              "      <th>2772806</th>\n",
              "      <th>2772807</th>\n",
              "      <th>2772808</th>\n",
              "      <th>2772809</th>\n",
              "      <th>2772810</th>\n",
              "      <th>2772811</th>\n",
              "      <th>...</th>\n",
              "      <th>2772928</th>\n",
              "      <th>2772929</th>\n",
              "      <th>2772930</th>\n",
              "      <th>2772931</th>\n",
              "      <th>2772932</th>\n",
              "      <th>2772933</th>\n",
              "      <th>2772934</th>\n",
              "      <th>2772980</th>\n",
              "      <th>2772981</th>\n",
              "      <th>2772982</th>\n",
              "    </tr>\n",
              "  </thead>\n",
              "  <tbody>\n",
              "    <tr>\n",
              "      <th>count</th>\n",
              "      <td>495.000000</td>\n",
              "      <td>495.000000</td>\n",
              "      <td>495.000000</td>\n",
              "      <td>495.000000</td>\n",
              "      <td>495.000000</td>\n",
              "      <td>495.000000</td>\n",
              "      <td>495.000000</td>\n",
              "      <td>495.000000</td>\n",
              "      <td>495.0</td>\n",
              "      <td>495.0</td>\n",
              "      <td>...</td>\n",
              "      <td>495.000000</td>\n",
              "      <td>495.000000</td>\n",
              "      <td>495.000000</td>\n",
              "      <td>495.000000</td>\n",
              "      <td>495.000000</td>\n",
              "      <td>495.000000</td>\n",
              "      <td>495.0</td>\n",
              "      <td>495.0</td>\n",
              "      <td>495.000000</td>\n",
              "      <td>495.000000</td>\n",
              "    </tr>\n",
              "    <tr>\n",
              "      <th>mean</th>\n",
              "      <td>247.000000</td>\n",
              "      <td>0.818182</td>\n",
              "      <td>0.818182</td>\n",
              "      <td>0.818182</td>\n",
              "      <td>0.569697</td>\n",
              "      <td>1.145455</td>\n",
              "      <td>1.266667</td>\n",
              "      <td>1.266667</td>\n",
              "      <td>0.0</td>\n",
              "      <td>0.0</td>\n",
              "      <td>...</td>\n",
              "      <td>0.424242</td>\n",
              "      <td>0.424242</td>\n",
              "      <td>0.339394</td>\n",
              "      <td>0.569697</td>\n",
              "      <td>0.509091</td>\n",
              "      <td>0.509091</td>\n",
              "      <td>3.0</td>\n",
              "      <td>3.0</td>\n",
              "      <td>3.355556</td>\n",
              "      <td>0.462626</td>\n",
              "    </tr>\n",
              "    <tr>\n",
              "      <th>std</th>\n",
              "      <td>143.038456</td>\n",
              "      <td>0.386085</td>\n",
              "      <td>0.386085</td>\n",
              "      <td>0.386085</td>\n",
              "      <td>0.495619</td>\n",
              "      <td>0.425710</td>\n",
              "      <td>0.502625</td>\n",
              "      <td>0.502625</td>\n",
              "      <td>0.0</td>\n",
              "      <td>0.0</td>\n",
              "      <td>...</td>\n",
              "      <td>0.494727</td>\n",
              "      <td>0.494727</td>\n",
              "      <td>0.478234</td>\n",
              "      <td>0.549835</td>\n",
              "      <td>0.531801</td>\n",
              "      <td>0.531801</td>\n",
              "      <td>0.0</td>\n",
              "      <td>0.0</td>\n",
              "      <td>2.218537</td>\n",
              "      <td>0.526732</td>\n",
              "    </tr>\n",
              "    <tr>\n",
              "      <th>min</th>\n",
              "      <td>0.000000</td>\n",
              "      <td>0.000000</td>\n",
              "      <td>0.000000</td>\n",
              "      <td>0.000000</td>\n",
              "      <td>0.000000</td>\n",
              "      <td>0.000000</td>\n",
              "      <td>0.000000</td>\n",
              "      <td>0.000000</td>\n",
              "      <td>0.0</td>\n",
              "      <td>0.0</td>\n",
              "      <td>...</td>\n",
              "      <td>0.000000</td>\n",
              "      <td>0.000000</td>\n",
              "      <td>0.000000</td>\n",
              "      <td>0.000000</td>\n",
              "      <td>0.000000</td>\n",
              "      <td>0.000000</td>\n",
              "      <td>3.0</td>\n",
              "      <td>3.0</td>\n",
              "      <td>0.000000</td>\n",
              "      <td>0.000000</td>\n",
              "    </tr>\n",
              "    <tr>\n",
              "      <th>25%</th>\n",
              "      <td>123.500000</td>\n",
              "      <td>1.000000</td>\n",
              "      <td>1.000000</td>\n",
              "      <td>1.000000</td>\n",
              "      <td>0.000000</td>\n",
              "      <td>1.000000</td>\n",
              "      <td>1.000000</td>\n",
              "      <td>1.000000</td>\n",
              "      <td>0.0</td>\n",
              "      <td>0.0</td>\n",
              "      <td>...</td>\n",
              "      <td>0.000000</td>\n",
              "      <td>0.000000</td>\n",
              "      <td>0.000000</td>\n",
              "      <td>0.000000</td>\n",
              "      <td>0.000000</td>\n",
              "      <td>0.000000</td>\n",
              "      <td>3.0</td>\n",
              "      <td>3.0</td>\n",
              "      <td>2.000000</td>\n",
              "      <td>0.000000</td>\n",
              "    </tr>\n",
              "    <tr>\n",
              "      <th>50%</th>\n",
              "      <td>247.000000</td>\n",
              "      <td>1.000000</td>\n",
              "      <td>1.000000</td>\n",
              "      <td>1.000000</td>\n",
              "      <td>1.000000</td>\n",
              "      <td>1.000000</td>\n",
              "      <td>1.000000</td>\n",
              "      <td>1.000000</td>\n",
              "      <td>0.0</td>\n",
              "      <td>0.0</td>\n",
              "      <td>...</td>\n",
              "      <td>0.000000</td>\n",
              "      <td>0.000000</td>\n",
              "      <td>0.000000</td>\n",
              "      <td>1.000000</td>\n",
              "      <td>0.000000</td>\n",
              "      <td>0.000000</td>\n",
              "      <td>3.0</td>\n",
              "      <td>3.0</td>\n",
              "      <td>3.000000</td>\n",
              "      <td>0.000000</td>\n",
              "    </tr>\n",
              "    <tr>\n",
              "      <th>75%</th>\n",
              "      <td>370.500000</td>\n",
              "      <td>1.000000</td>\n",
              "      <td>1.000000</td>\n",
              "      <td>1.000000</td>\n",
              "      <td>1.000000</td>\n",
              "      <td>1.000000</td>\n",
              "      <td>2.000000</td>\n",
              "      <td>2.000000</td>\n",
              "      <td>0.0</td>\n",
              "      <td>0.0</td>\n",
              "      <td>...</td>\n",
              "      <td>1.000000</td>\n",
              "      <td>1.000000</td>\n",
              "      <td>1.000000</td>\n",
              "      <td>1.000000</td>\n",
              "      <td>1.000000</td>\n",
              "      <td>1.000000</td>\n",
              "      <td>3.0</td>\n",
              "      <td>3.0</td>\n",
              "      <td>5.000000</td>\n",
              "      <td>1.000000</td>\n",
              "    </tr>\n",
              "    <tr>\n",
              "      <th>max</th>\n",
              "      <td>494.000000</td>\n",
              "      <td>1.000000</td>\n",
              "      <td>1.000000</td>\n",
              "      <td>1.000000</td>\n",
              "      <td>1.000000</td>\n",
              "      <td>2.000000</td>\n",
              "      <td>2.000000</td>\n",
              "      <td>2.000000</td>\n",
              "      <td>0.0</td>\n",
              "      <td>0.0</td>\n",
              "      <td>...</td>\n",
              "      <td>1.000000</td>\n",
              "      <td>1.000000</td>\n",
              "      <td>2.000000</td>\n",
              "      <td>2.000000</td>\n",
              "      <td>2.000000</td>\n",
              "      <td>2.000000</td>\n",
              "      <td>3.0</td>\n",
              "      <td>3.0</td>\n",
              "      <td>14.000000</td>\n",
              "      <td>2.000000</td>\n",
              "    </tr>\n",
              "  </tbody>\n",
              "</table>\n",
              "<p>8 rows × 66 columns</p>\n",
              "</div>\n",
              "      <button class=\"colab-df-convert\" onclick=\"convertToInteractive('df-e653b700-3aea-4b88-a2f6-1909597cdebd')\"\n",
              "              title=\"Convert this dataframe to an interactive table.\"\n",
              "              style=\"display:none;\">\n",
              "        \n",
              "  <svg xmlns=\"http://www.w3.org/2000/svg\" height=\"24px\"viewBox=\"0 0 24 24\"\n",
              "       width=\"24px\">\n",
              "    <path d=\"M0 0h24v24H0V0z\" fill=\"none\"/>\n",
              "    <path d=\"M18.56 5.44l.94 2.06.94-2.06 2.06-.94-2.06-.94-.94-2.06-.94 2.06-2.06.94zm-11 1L8.5 8.5l.94-2.06 2.06-.94-2.06-.94L8.5 2.5l-.94 2.06-2.06.94zm10 10l.94 2.06.94-2.06 2.06-.94-2.06-.94-.94-2.06-.94 2.06-2.06.94z\"/><path d=\"M17.41 7.96l-1.37-1.37c-.4-.4-.92-.59-1.43-.59-.52 0-1.04.2-1.43.59L10.3 9.45l-7.72 7.72c-.78.78-.78 2.05 0 2.83L4 21.41c.39.39.9.59 1.41.59.51 0 1.02-.2 1.41-.59l7.78-7.78 2.81-2.81c.8-.78.8-2.07 0-2.86zM5.41 20L4 18.59l7.72-7.72 1.47 1.35L5.41 20z\"/>\n",
              "  </svg>\n",
              "      </button>\n",
              "      \n",
              "  <style>\n",
              "    .colab-df-container {\n",
              "      display:flex;\n",
              "      flex-wrap:wrap;\n",
              "      gap: 12px;\n",
              "    }\n",
              "\n",
              "    .colab-df-convert {\n",
              "      background-color: #E8F0FE;\n",
              "      border: none;\n",
              "      border-radius: 50%;\n",
              "      cursor: pointer;\n",
              "      display: none;\n",
              "      fill: #1967D2;\n",
              "      height: 32px;\n",
              "      padding: 0 0 0 0;\n",
              "      width: 32px;\n",
              "    }\n",
              "\n",
              "    .colab-df-convert:hover {\n",
              "      background-color: #E2EBFA;\n",
              "      box-shadow: 0px 1px 2px rgba(60, 64, 67, 0.3), 0px 1px 3px 1px rgba(60, 64, 67, 0.15);\n",
              "      fill: #174EA6;\n",
              "    }\n",
              "\n",
              "    [theme=dark] .colab-df-convert {\n",
              "      background-color: #3B4455;\n",
              "      fill: #D2E3FC;\n",
              "    }\n",
              "\n",
              "    [theme=dark] .colab-df-convert:hover {\n",
              "      background-color: #434B5C;\n",
              "      box-shadow: 0px 1px 3px 1px rgba(0, 0, 0, 0.15);\n",
              "      filter: drop-shadow(0px 1px 2px rgba(0, 0, 0, 0.3));\n",
              "      fill: #FFFFFF;\n",
              "    }\n",
              "  </style>\n",
              "\n",
              "      <script>\n",
              "        const buttonEl =\n",
              "          document.querySelector('#df-e653b700-3aea-4b88-a2f6-1909597cdebd button.colab-df-convert');\n",
              "        buttonEl.style.display =\n",
              "          google.colab.kernel.accessAllowed ? 'block' : 'none';\n",
              "\n",
              "        async function convertToInteractive(key) {\n",
              "          const element = document.querySelector('#df-e653b700-3aea-4b88-a2f6-1909597cdebd');\n",
              "          const dataTable =\n",
              "            await google.colab.kernel.invokeFunction('convertToInteractive',\n",
              "                                                     [key], {});\n",
              "          if (!dataTable) return;\n",
              "\n",
              "          const docLinkHtml = 'Like what you see? Visit the ' +\n",
              "            '<a target=\"_blank\" href=https://colab.research.google.com/notebooks/data_table.ipynb>data table notebook</a>'\n",
              "            + ' to learn more about interactive tables.';\n",
              "          element.innerHTML = '';\n",
              "          dataTable['output_type'] = 'display_data';\n",
              "          await google.colab.output.renderOutput(dataTable, element);\n",
              "          const docLink = document.createElement('div');\n",
              "          docLink.innerHTML = docLinkHtml;\n",
              "          element.appendChild(docLink);\n",
              "        }\n",
              "      </script>\n",
              "    </div>\n",
              "  </div>\n",
              "  "
            ]
          },
          "metadata": {},
          "execution_count": 36
        }
      ]
    },
    {
      "cell_type": "markdown",
      "source": [
        ""
      ],
      "metadata": {
        "id": "wvvgGYUoAuf-"
      }
    },
    {
      "cell_type": "code",
      "source": [
        "#Criando uma lista com o nome das colunas para usar nas analises a seguir:\n",
        "colunas = ['2772803', '2772804', '2772805', '2772806','2772807', '2772808', '2772809', '2772810', '2772811', '2772812',\n",
        "           '2772813', '2772814', '2772815', '2772816', '2772817', '2772818','2772819', '2772820', '2772821', '2772822', '2772859', '2772860',\n",
        "           '2772861', '2772862', '2772863', '2772864', '2772865', '2772866','2772867', '2772868', '2772869', '2772870', '2772871', '2772872',\n",
        "           '2772873', '2772874', '2772875', '2772876', '2772877', '2772878','2772879', '2772914', '2772915', '2772916', '2772917', '2772918',\n",
        "           '2772919', '2772920', '2772921', '2772922', '2772923', '2772924', '2772925', '2772926', '2772927', '2772928', '2772929', '2772930',\n",
        "           '2772931', '2772932', '2772933', '2772934', '2772980', '2772981','2772982']"
      ],
      "metadata": {
        "id": "HGtJFdUrt7pO"
      },
      "execution_count": null,
      "outputs": []
    },
    {
      "cell_type": "code",
      "source": [
        "#Criando um dataframe que calcula o valor máximo em cada coluna e classica em ordem decrescente\n",
        "df2_resultado_max = df2_resultado[colunas].max().sort_values(ascending=False)\n",
        "df2_trade_max = df2_trade[colunas].max().sort_values(ascending=False)"
      ],
      "metadata": {
        "id": "7vcQF1156CnY"
      },
      "execution_count": null,
      "outputs": []
    },
    {
      "cell_type": "code",
      "source": [
        "#gráfico que mostra os maiores valores máximos dos rôbos pelo resultado financeiro\n",
        "df2_resultado_max.head(5).plot(kind='bar')"
      ],
      "metadata": {
        "colab": {
          "base_uri": "https://localhost:8080/",
          "height": 317
        },
        "id": "Pvbihx_96HlM",
        "outputId": "45968b9d-631e-448b-d534-74857b51f57f"
      },
      "execution_count": null,
      "outputs": [
        {
          "output_type": "execute_result",
          "data": {
            "text/plain": [
              "<matplotlib.axes._subplots.AxesSubplot at 0x7fdfe7655a50>"
            ]
          },
          "metadata": {},
          "execution_count": 70
        },
        {
          "output_type": "display_data",
          "data": {
            "text/plain": [
              "<Figure size 432x288 with 1 Axes>"
            ],
            "image/png": "[encoded data removed]"
          },
          "metadata": {}
        }
      ]
    },
    {
      "cell_type": "code",
      "source": [
        "#gráfico que mostra os maiores valores máximos dos rôbos pelo número de operações\n",
        "df2_trade_max.head(5).plot(kind='bar')"
      ],
      "metadata": {
        "colab": {
          "base_uri": "https://localhost:8080/",
          "height": 317
        },
        "id": "LXZo4DI87d9T",
        "outputId": "253a889c-18d9-44e0-fd8c-16207bb65453"
      },
      "execution_count": null,
      "outputs": [
        {
          "output_type": "execute_result",
          "data": {
            "text/plain": [
              "<matplotlib.axes._subplots.AxesSubplot at 0x7fdfe7556e50>"
            ]
          },
          "metadata": {},
          "execution_count": 71
        },
        {
          "output_type": "display_data",
          "data": {
            "text/plain": [
              "<Figure size 432x288 with 1 Axes>"
            ],
            "image/png": "[encoded data removed]"
          },
          "metadata": {}
        }
      ]
    },
    {
      "cell_type": "code",
      "source": [
        "#Criando um dataframe que calcula o valor máximo em cada coluna e classica em ordem decrescente\n",
        "df2_resultado_sum = df2_resultado[colunas].sum().sort_values(ascending=False)\n",
        "df2_trade_sum = df2_trade[colunas].sum().sort_values(ascending=False)"
      ],
      "metadata": {
        "id": "5i-uwCZhF5K9"
      },
      "execution_count": null,
      "outputs": []
    },
    {
      "cell_type": "code",
      "source": [
        "#gráfico que mostra a soma dos rôbos pelo resultado financeiro\n",
        "df2_resultado_sum.head(5).plot(kind='bar')"
      ],
      "metadata": {
        "colab": {
          "base_uri": "https://localhost:8080/",
          "height": 317
        },
        "id": "cuBoiUwyGGMT",
        "outputId": "ca2d9bb9-5f5f-46fb-faa7-5f7b977a6b6f"
      },
      "execution_count": null,
      "outputs": [
        {
          "output_type": "execute_result",
          "data": {
            "text/plain": [
              "<matplotlib.axes._subplots.AxesSubplot at 0x7fdfe70e3990>"
            ]
          },
          "metadata": {},
          "execution_count": 101
        },
        {
          "output_type": "display_data",
          "data": {
            "text/plain": [
              "<Figure size 432x288 with 1 Axes>"
            ],
            "image/png": "[encoded data removed]"
          },
          "metadata": {}
        }
      ]
    },
    {
      "cell_type": "code",
      "source": [
        "#gráfico que mostra a soma dos rôbos pelo número de operações\n",
        "df2_trade_sum.head(5).plot(kind='bar')"
      ],
      "metadata": {
        "colab": {
          "base_uri": "https://localhost:8080/",
          "height": 317
        },
        "id": "dJACFZDnGQ8K",
        "outputId": "5062b011-f675-48e5-ec5a-37a504864bcf"
      },
      "execution_count": null,
      "outputs": [
        {
          "output_type": "execute_result",
          "data": {
            "text/plain": [
              "<matplotlib.axes._subplots.AxesSubplot at 0x7fdfe8b1c610>"
            ]
          },
          "metadata": {},
          "execution_count": 102
        },
        {
          "output_type": "display_data",
          "data": {
            "text/plain": [
              "<Figure size 432x288 with 1 Axes>"
            ],
            "image/png": "[encoded data removed]"
          },
          "metadata": {}
        }
      ]
    },
    {
      "cell_type": "code",
      "source": [
        "#Criando um dataframe que calcula a média em cada coluna e classica em ordem decrescente\n",
        "df2_resultado_mean = df2_resultado[colunas].mean().sort_values(ascending=False)\n",
        "df2_trade_mean = df2_trade[colunas].mean().sort_values(ascending=False)"
      ],
      "metadata": {
        "id": "UKECijpr1Hf2"
      },
      "execution_count": null,
      "outputs": []
    },
    {
      "cell_type": "code",
      "source": [
        "#gráfico que mostra as maiores média dos rôbos pelo resultado financeiro\n",
        "df2_resultado_mean.head(5).plot(kind='bar')"
      ],
      "metadata": {
        "colab": {
          "base_uri": "https://localhost:8080/",
          "height": 317
        },
        "id": "8KY00kZv5Y5V",
        "outputId": "3c87cf68-b11d-4e71-f4c9-9c145dc99142"
      },
      "execution_count": null,
      "outputs": [
        {
          "output_type": "execute_result",
          "data": {
            "text/plain": [
              "<matplotlib.axes._subplots.AxesSubplot at 0x7fdfe78509d0>"
            ]
          },
          "metadata": {},
          "execution_count": 55
        },
        {
          "output_type": "display_data",
          "data": {
            "text/plain": [
              "<Figure size 432x288 with 1 Axes>"
            ],
            "image/png": "[encoded data removed]"
          },
          "metadata": {}
        }
      ]
    },
    {
      "cell_type": "code",
      "source": [
        "#gráfico que mostra as maiores média dos rôbos pelo número de operações\n",
        "df2_trade_mean.head(5).plot(kind='bar')"
      ],
      "metadata": {
        "colab": {
          "base_uri": "https://localhost:8080/",
          "height": 317
        },
        "id": "ndaDOYeH1R3I",
        "outputId": "005ea2d0-55d8-41fc-db6f-793770e762ea"
      },
      "execution_count": null,
      "outputs": [
        {
          "output_type": "execute_result",
          "data": {
            "text/plain": [
              "<matplotlib.axes._subplots.AxesSubplot at 0x7fdfe75465d0>"
            ]
          },
          "metadata": {},
          "execution_count": 72
        },
        {
          "output_type": "display_data",
          "data": {
            "text/plain": [
              "<Figure size 432x288 with 1 Axes>"
            ],
            "image/png": "[encoded data removed]"
          },
          "metadata": {}
        }
      ]
    },
    {
      "cell_type": "code",
      "source": [
        "#Criando um dataframe que calcula a mediana em cada coluna e classica em ordem decrescente\n",
        "df2_resultado_mediana = df2_resultado[colunas].median().sort_values(ascending=False)\n",
        "df2_trade_mediana = df2_trade[colunas].median().sort_values(ascending=False)"
      ],
      "metadata": {
        "id": "mkIyYNVPvDKv"
      },
      "execution_count": null,
      "outputs": []
    },
    {
      "cell_type": "code",
      "source": [
        "#gráfico que mostra as colunas com as maiores mediana dos rôbos pelo resultado financeiro\n",
        "df2_resultado_mediana.head(5).plot(kind='bar')"
      ],
      "metadata": {
        "colab": {
          "base_uri": "https://localhost:8080/",
          "height": 318
        },
        "id": "mimqQ9Na2WEg",
        "outputId": "60f2ab14-9416-4b1a-8de4-acfc09cb5b4d"
      },
      "execution_count": null,
      "outputs": [
        {
          "output_type": "execute_result",
          "data": {
            "text/plain": [
              "<matplotlib.axes._subplots.AxesSubplot at 0x7fdfe7e70710>"
            ]
          },
          "metadata": {},
          "execution_count": 81
        },
        {
          "output_type": "display_data",
          "data": {
            "text/plain": [
              "<Figure size 432x288 with 1 Axes>"
            ],
            "image/png": "[encoded data removed]"
          },
          "metadata": {}
        }
      ]
    },
    {
      "cell_type": "code",
      "source": [
        "#gráfico que mostra as colunas com as maiores mediana dos rôbos pelo número de operações\n",
        "df2_trade_mediana.head(5).plot(kind='bar')"
      ],
      "metadata": {
        "colab": {
          "base_uri": "https://localhost:8080/",
          "height": 317
        },
        "id": "iOWXrfre2Vs4",
        "outputId": "72235cce-61dd-42a0-d861-3debea87bafa"
      },
      "execution_count": null,
      "outputs": [
        {
          "output_type": "execute_result",
          "data": {
            "text/plain": [
              "<matplotlib.axes._subplots.AxesSubplot at 0x7fdfe71f6b10>"
            ]
          },
          "metadata": {},
          "execution_count": 95
        },
        {
          "output_type": "display_data",
          "data": {
            "text/plain": [
              "<Figure size 432x288 with 1 Axes>"
            ],
            "image/png": "[encoded data removed]"
          },
          "metadata": {}
        }
      ]
    },
    {
      "cell_type": "markdown",
      "source": [
        "Criação de um novo dataframe afim de analisar os dados resultante a divisão do dataframe rôbos resultados pelo rôbos tranders\n",
        "\n"
      ],
      "metadata": {
        "id": "OmxIp_LOQ41A"
      }
    },
    {
      "cell_type": "code",
      "source": [
        "#Criando um dataframe que dividi o resultado financeiro de cada rôbo pelo número de operações  \n",
        "df2_resultado_trade = df2_resultado[colunas] / df2_trade[colunas]"
      ],
      "metadata": {
        "id": "IZLw3Gq96ntf"
      },
      "execution_count": null,
      "outputs": []
    },
    {
      "cell_type": "code",
      "source": [
        "#Mostrando os dados do dataframe\n",
        "df2_resultado_trade.head(5)"
      ],
      "metadata": {
        "colab": {
          "base_uri": "https://localhost:8080/",
          "height": 300
        },
        "id": "Q_NqP90OmxLi",
        "outputId": "6037cdf6-26c8-44a3-aac5-58a87ac302f0"
      },
      "execution_count": null,
      "outputs": [
        {
          "output_type": "execute_result",
          "data": {
            "text/plain": [
              "   2772803  2772804  2772805  2772806  2772807  2772808  2772809  2772810  \\\n",
              "0     97.0     97.0     97.0      NaN    198.0    174.0     38.0      NaN   \n",
              "1     79.0     79.0     79.0   -358.0    -59.5    -59.5     43.0      NaN   \n",
              "2     57.0     57.0     57.0    -19.0    -69.0    -69.0    -30.0      NaN   \n",
              "3     73.0     73.0     73.0   -129.0    -97.5    -97.5    -97.5      NaN   \n",
              "4     53.0     53.0     53.0   -264.0   -102.0   -102.0    -29.5      NaN   \n",
              "\n",
              "   2772811    2772812  ...  2772928  2772929  2772930  2772931  2772932  \\\n",
              "0      NaN  17.250000  ...      NaN      NaN      NaN      NaN      NaN   \n",
              "1      NaN  21.750000  ...     90.0     90.0     42.0     40.0     42.0   \n",
              "2      NaN  -0.416667  ...      NaN      NaN      NaN      NaN      NaN   \n",
              "3      NaN   6.250000  ...      NaN      NaN      NaN      NaN      NaN   \n",
              "4      NaN   0.000000  ...      NaN      NaN      NaN      NaN      NaN   \n",
              "\n",
              "   2772933    2772934    2772980    2772981  2772982  \n",
              "0      NaN  27.333333  27.333333 -38.333333      NaN  \n",
              "1     42.0   0.666667   0.666667 -11.571429     47.0  \n",
              "2      NaN   0.666667   0.666667 -44.000000      NaN  \n",
              "3      NaN -24.000000 -24.000000  10.250000      NaN  \n",
              "4      NaN   1.000000   1.000000   1.600000      NaN  \n",
              "\n",
              "[5 rows x 65 columns]"
            ],
            "text/html": [
              "\n",
              "  <div id=\"df-48ab1bd6-f861-4adb-a42e-39043a6e2cb1\">\n",
              "    <div class=\"colab-df-container\">\n",
              "      <div>\n",
              "<style scoped>\n",
              "    .dataframe tbody tr th:only-of-type {\n",
              "        vertical-align: middle;\n",
              "    }\n",
              "\n",
              "    .dataframe tbody tr th {\n",
              "        vertical-align: top;\n",
              "    }\n",
              "\n",
              "    .dataframe thead th {\n",
              "        text-align: right;\n",
              "    }\n",
              "</style>\n",
              "<table border=\"1\" class=\"dataframe\">\n",
              "  <thead>\n",
              "    <tr style=\"text-align: right;\">\n",
              "      <th></th>\n",
              "      <th>2772803</th>\n",
              "      <th>2772804</th>\n",
              "      <th>2772805</th>\n",
              "      <th>2772806</th>\n",
              "      <th>2772807</th>\n",
              "      <th>2772808</th>\n",
              "      <th>2772809</th>\n",
              "      <th>2772810</th>\n",
              "      <th>2772811</th>\n",
              "      <th>2772812</th>\n",
              "      <th>...</th>\n",
              "      <th>2772928</th>\n",
              "      <th>2772929</th>\n",
              "      <th>2772930</th>\n",
              "      <th>2772931</th>\n",
              "      <th>2772932</th>\n",
              "      <th>2772933</th>\n",
              "      <th>2772934</th>\n",
              "      <th>2772980</th>\n",
              "      <th>2772981</th>\n",
              "      <th>2772982</th>\n",
              "    </tr>\n",
              "  </thead>\n",
              "  <tbody>\n",
              "    <tr>\n",
              "      <th>0</th>\n",
              "      <td>97.0</td>\n",
              "      <td>97.0</td>\n",
              "      <td>97.0</td>\n",
              "      <td>NaN</td>\n",
              "      <td>198.0</td>\n",
              "      <td>174.0</td>\n",
              "      <td>38.0</td>\n",
              "      <td>NaN</td>\n",
              "      <td>NaN</td>\n",
              "      <td>17.250000</td>\n",
              "      <td>...</td>\n",
              "      <td>NaN</td>\n",
              "      <td>NaN</td>\n",
              "      <td>NaN</td>\n",
              "      <td>NaN</td>\n",
              "      <td>NaN</td>\n",
              "      <td>NaN</td>\n",
              "      <td>27.333333</td>\n",
              "      <td>27.333333</td>\n",
              "      <td>-38.333333</td>\n",
              "      <td>NaN</td>\n",
              "    </tr>\n",
              "    <tr>\n",
              "      <th>1</th>\n",
              "      <td>79.0</td>\n",
              "      <td>79.0</td>\n",
              "      <td>79.0</td>\n",
              "      <td>-358.0</td>\n",
              "      <td>-59.5</td>\n",
              "      <td>-59.5</td>\n",
              "      <td>43.0</td>\n",
              "      <td>NaN</td>\n",
              "      <td>NaN</td>\n",
              "      <td>21.750000</td>\n",
              "      <td>...</td>\n",
              "      <td>90.0</td>\n",
              "      <td>90.0</td>\n",
              "      <td>42.0</td>\n",
              "      <td>40.0</td>\n",
              "      <td>42.0</td>\n",
              "      <td>42.0</td>\n",
              "      <td>0.666667</td>\n",
              "      <td>0.666667</td>\n",
              "      <td>-11.571429</td>\n",
              "      <td>47.0</td>\n",
              "    </tr>\n",
              "    <tr>\n",
              "      <th>2</th>\n",
              "      <td>57.0</td>\n",
              "      <td>57.0</td>\n",
              "      <td>57.0</td>\n",
              "      <td>-19.0</td>\n",
              "      <td>-69.0</td>\n",
              "      <td>-69.0</td>\n",
              "      <td>-30.0</td>\n",
              "      <td>NaN</td>\n",
              "      <td>NaN</td>\n",
              "      <td>-0.416667</td>\n",
              "      <td>...</td>\n",
              "      <td>NaN</td>\n",
              "      <td>NaN</td>\n",
              "      <td>NaN</td>\n",
              "      <td>NaN</td>\n",
              "      <td>NaN</td>\n",
              "      <td>NaN</td>\n",
              "      <td>0.666667</td>\n",
              "      <td>0.666667</td>\n",
              "      <td>-44.000000</td>\n",
              "      <td>NaN</td>\n",
              "    </tr>\n",
              "    <tr>\n",
              "      <th>3</th>\n",
              "      <td>73.0</td>\n",
              "      <td>73.0</td>\n",
              "      <td>73.0</td>\n",
              "      <td>-129.0</td>\n",
              "      <td>-97.5</td>\n",
              "      <td>-97.5</td>\n",
              "      <td>-97.5</td>\n",
              "      <td>NaN</td>\n",
              "      <td>NaN</td>\n",
              "      <td>6.250000</td>\n",
              "      <td>...</td>\n",
              "      <td>NaN</td>\n",
              "      <td>NaN</td>\n",
              "      <td>NaN</td>\n",
              "      <td>NaN</td>\n",
              "      <td>NaN</td>\n",
              "      <td>NaN</td>\n",
              "      <td>-24.000000</td>\n",
              "      <td>-24.000000</td>\n",
              "      <td>10.250000</td>\n",
              "      <td>NaN</td>\n",
              "    </tr>\n",
              "    <tr>\n",
              "      <th>4</th>\n",
              "      <td>53.0</td>\n",
              "      <td>53.0</td>\n",
              "      <td>53.0</td>\n",
              "      <td>-264.0</td>\n",
              "      <td>-102.0</td>\n",
              "      <td>-102.0</td>\n",
              "      <td>-29.5</td>\n",
              "      <td>NaN</td>\n",
              "      <td>NaN</td>\n",
              "      <td>0.000000</td>\n",
              "      <td>...</td>\n",
              "      <td>NaN</td>\n",
              "      <td>NaN</td>\n",
              "      <td>NaN</td>\n",
              "      <td>NaN</td>\n",
              "      <td>NaN</td>\n",
              "      <td>NaN</td>\n",
              "      <td>1.000000</td>\n",
              "      <td>1.000000</td>\n",
              "      <td>1.600000</td>\n",
              "      <td>NaN</td>\n",
              "    </tr>\n",
              "  </tbody>\n",
              "</table>\n",
              "<p>5 rows × 65 columns</p>\n",
              "</div>\n",
              "      <button class=\"colab-df-convert\" onclick=\"convertToInteractive('df-48ab1bd6-f861-4adb-a42e-39043a6e2cb1')\"\n",
              "              title=\"Convert this dataframe to an interactive table.\"\n",
              "              style=\"display:none;\">\n",
              "        \n",
              "  <svg xmlns=\"http://www.w3.org/2000/svg\" height=\"24px\"viewBox=\"0 0 24 24\"\n",
              "       width=\"24px\">\n",
              "    <path d=\"M0 0h24v24H0V0z\" fill=\"none\"/>\n",
              "    <path d=\"M18.56 5.44l.94 2.06.94-2.06 2.06-.94-2.06-.94-.94-2.06-.94 2.06-2.06.94zm-11 1L8.5 8.5l.94-2.06 2.06-.94-2.06-.94L8.5 2.5l-.94 2.06-2.06.94zm10 10l.94 2.06.94-2.06 2.06-.94-2.06-.94-.94-2.06-.94 2.06-2.06.94z\"/><path d=\"M17.41 7.96l-1.37-1.37c-.4-.4-.92-.59-1.43-.59-.52 0-1.04.2-1.43.59L10.3 9.45l-7.72 7.72c-.78.78-.78 2.05 0 2.83L4 21.41c.39.39.9.59 1.41.59.51 0 1.02-.2 1.41-.59l7.78-7.78 2.81-2.81c.8-.78.8-2.07 0-2.86zM5.41 20L4 18.59l7.72-7.72 1.47 1.35L5.41 20z\"/>\n",
              "  </svg>\n",
              "      </button>\n",
              "      \n",
              "  <style>\n",
              "    .colab-df-container {\n",
              "      display:flex;\n",
              "      flex-wrap:wrap;\n",
              "      gap: 12px;\n",
              "    }\n",
              "\n",
              "    .colab-df-convert {\n",
              "      background-color: #E8F0FE;\n",
              "      border: none;\n",
              "      border-radius: 50%;\n",
              "      cursor: pointer;\n",
              "      display: none;\n",
              "      fill: #1967D2;\n",
              "      height: 32px;\n",
              "      padding: 0 0 0 0;\n",
              "      width: 32px;\n",
              "    }\n",
              "\n",
              "    .colab-df-convert:hover {\n",
              "      background-color: #E2EBFA;\n",
              "      box-shadow: 0px 1px 2px rgba(60, 64, 67, 0.3), 0px 1px 3px 1px rgba(60, 64, 67, 0.15);\n",
              "      fill: #174EA6;\n",
              "    }\n",
              "\n",
              "    [theme=dark] .colab-df-convert {\n",
              "      background-color: #3B4455;\n",
              "      fill: #D2E3FC;\n",
              "    }\n",
              "\n",
              "    [theme=dark] .colab-df-convert:hover {\n",
              "      background-color: #434B5C;\n",
              "      box-shadow: 0px 1px 3px 1px rgba(0, 0, 0, 0.15);\n",
              "      filter: drop-shadow(0px 1px 2px rgba(0, 0, 0, 0.3));\n",
              "      fill: #FFFFFF;\n",
              "    }\n",
              "  </style>\n",
              "\n",
              "      <script>\n",
              "        const buttonEl =\n",
              "          document.querySelector('#df-48ab1bd6-f861-4adb-a42e-39043a6e2cb1 button.colab-df-convert');\n",
              "        buttonEl.style.display =\n",
              "          google.colab.kernel.accessAllowed ? 'block' : 'none';\n",
              "\n",
              "        async function convertToInteractive(key) {\n",
              "          const element = document.querySelector('#df-48ab1bd6-f861-4adb-a42e-39043a6e2cb1');\n",
              "          const dataTable =\n",
              "            await google.colab.kernel.invokeFunction('convertToInteractive',\n",
              "                                                     [key], {});\n",
              "          if (!dataTable) return;\n",
              "\n",
              "          const docLinkHtml = 'Like what you see? Visit the ' +\n",
              "            '<a target=\"_blank\" href=https://colab.research.google.com/notebooks/data_table.ipynb>data table notebook</a>'\n",
              "            + ' to learn more about interactive tables.';\n",
              "          element.innerHTML = '';\n",
              "          dataTable['output_type'] = 'display_data';\n",
              "          await google.colab.output.renderOutput(dataTable, element);\n",
              "          const docLink = document.createElement('div');\n",
              "          docLink.innerHTML = docLinkHtml;\n",
              "          element.appendChild(docLink);\n",
              "        }\n",
              "      </script>\n",
              "    </div>\n",
              "  </div>\n",
              "  "
            ]
          },
          "metadata": {},
          "execution_count": 86
        }
      ]
    },
    {
      "cell_type": "code",
      "source": [
        "#Criando um dataframe que calcula o valor máximo em cada coluna e classica em ordem decrescente\n",
        "df2_maximo = df2_resultado_trade[colunas].max().sort_values(ascending=False)"
      ],
      "metadata": {
        "id": "IxioFHEL6Ymf"
      },
      "execution_count": null,
      "outputs": []
    },
    {
      "cell_type": "code",
      "source": [
        "#gráfico que mostra os maiores valores máximos dos rôbos \n",
        "df2_maximo.head(5).plot(kind='bar')"
      ],
      "metadata": {
        "colab": {
          "base_uri": "https://localhost:8080/",
          "height": 317
        },
        "id": "MYi04QO46emv",
        "outputId": "ecb2b5f4-60ab-4500-9f95-a5bd47f122d5"
      },
      "execution_count": null,
      "outputs": [
        {
          "output_type": "execute_result",
          "data": {
            "text/plain": [
              "<matplotlib.axes._subplots.AxesSubplot at 0x7fdfe7232dd0>"
            ]
          },
          "metadata": {},
          "execution_count": 92
        },
        {
          "output_type": "display_data",
          "data": {
            "text/plain": [
              "<Figure size 432x288 with 1 Axes>"
            ],
            "image/png": "[encoded data removed]"
          },
          "metadata": {}
        }
      ]
    },
    {
      "cell_type": "code",
      "source": [
        "#Criando um dataframe que calcula o valor da soma em cada coluna e classica em ordem decrescente\n",
        "df2_soma = df2_resultado_trade[colunas].sum().sort_values(ascending=False)"
      ],
      "metadata": {
        "id": "N4O94Zu7FdY3"
      },
      "execution_count": null,
      "outputs": []
    },
    {
      "cell_type": "code",
      "source": [
        "#gráfico que mostra a soma dos rôbos \n",
        "df2_soma.head(5).plot(kind='bar')"
      ],
      "metadata": {
        "colab": {
          "base_uri": "https://localhost:8080/",
          "height": 317
        },
        "id": "Aop2uZ5uFh5Z",
        "outputId": "b2c221f0-0d16-4ba4-8461-c9e8b275cd73"
      },
      "execution_count": null,
      "outputs": [
        {
          "output_type": "execute_result",
          "data": {
            "text/plain": [
              "<matplotlib.axes._subplots.AxesSubplot at 0x7fdfe6fe84d0>"
            ]
          },
          "metadata": {},
          "execution_count": 103
        },
        {
          "output_type": "display_data",
          "data": {
            "text/plain": [
              "<Figure size 432x288 with 1 Axes>"
            ],
            "image/png": "[encoded data removed]"
          },
          "metadata": {}
        }
      ]
    },
    {
      "cell_type": "code",
      "source": [
        "#Criando um dataframe que calcula a média em cada coluna e classica em ordem decrescente\n",
        "df2_media = df2_resultado_trade[colunas].mean().sort_values(ascending=False)"
      ],
      "metadata": {
        "id": "t1sTnSV7m_tU"
      },
      "execution_count": null,
      "outputs": []
    },
    {
      "cell_type": "code",
      "source": [
        "#gráfico que mostra as maiores média dos rôbos \n",
        "df2_media.head(5).plot(kind='bar')"
      ],
      "metadata": {
        "colab": {
          "base_uri": "https://localhost:8080/",
          "height": 317
        },
        "id": "3PiNYpDPnFo7",
        "outputId": "3fe0587a-59a0-44df-da7d-10e83f3cef84"
      },
      "execution_count": null,
      "outputs": [
        {
          "output_type": "execute_result",
          "data": {
            "text/plain": [
              "<matplotlib.axes._subplots.AxesSubplot at 0x7fdfe7957210>"
            ]
          },
          "metadata": {},
          "execution_count": 88
        },
        {
          "output_type": "display_data",
          "data": {
            "text/plain": [
              "<Figure size 432x288 with 1 Axes>"
            ],
            "image/png": "[encoded data removed]"
          },
          "metadata": {}
        }
      ]
    },
    {
      "cell_type": "code",
      "source": [
        "#Criando um dataframe que calcula a mediana em cada coluna e classica em ordem decrescente\n",
        "df2_mediana = df2_resultado_trade[colunas].median().sort_values(ascending=False)"
      ],
      "metadata": {
        "id": "UVIiHueKoUlz"
      },
      "execution_count": null,
      "outputs": []
    },
    {
      "cell_type": "code",
      "source": [
        "#gráfico que mostra as maiores medianas dos rôbos \n",
        "df2_mediana.head(5).plot(kind='bar')"
      ],
      "metadata": {
        "colab": {
          "base_uri": "https://localhost:8080/",
          "height": 317
        },
        "id": "VtW-dBkcodYM",
        "outputId": "ffffee71-278d-42e8-ad69-9a2f6e8090de"
      },
      "execution_count": null,
      "outputs": [
        {
          "output_type": "execute_result",
          "data": {
            "text/plain": [
              "<matplotlib.axes._subplots.AxesSubplot at 0x7fdfe72bb990>"
            ]
          },
          "metadata": {},
          "execution_count": 90
        },
        {
          "output_type": "display_data",
          "data": {
            "text/plain": [
              "<Figure size 432x288 with 1 Axes>"
            ],
            "image/png": "[encoded data removed]"
          },
          "metadata": {}
        }
      ]
    },
    {
      "cell_type": "markdown",
      "source": [
        "Insights\n",
        "\n",
        "Considerando toda a exploração dos dados para os rôbos que envolveu média, soma, mediana e máxima, alguns rôbos se destacaram mais nessas análises, para a escolha do top5 dos rôbos, estou considerando a soma refente ao dataframe df2_resultado_trader que foi criado a partir da divisão do resultado financeiro pelo número de operações, desta forma, o df2_soma contribuiu com os seguintes resultados:\n",
        "\n",
        "Coloção top5 dos rôbos\n",
        "\n",
        "1.   2772807\n",
        "2.   2772873\n",
        "3.   2772864\n",
        "4.   2772803\n",
        "5.   2772805\n",
        "\n",
        "Observação: Devem ser realizadas outras operações, como exemplo, uma regressão linear para validar melhor o resultado, visto que essa abordagem de função somente de compreender melhor o objeto de estudo.\n",
        "\n",
        "\n",
        "\n",
        "\n",
        "\n",
        "\n"
      ],
      "metadata": {
        "id": "Rw3dbfWV7EOq"
      }
    }
  ]
}